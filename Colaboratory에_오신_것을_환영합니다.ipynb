{
  "cells": [
    {
      "cell_type": "markdown",
      "metadata": {
        "id": "view-in-github",
        "colab_type": "text"
      },
      "source": [
        "<a href=\"https://colab.research.google.com/github/tjdrms0930/bit2210_bigdata/blob/main/Colaboratory%EC%97%90_%EC%98%A4%EC%8B%A0_%EA%B2%83%EC%9D%84_%ED%99%98%EC%98%81%ED%95%A9%EB%8B%88%EB%8B%A4.ipynb\" target=\"_parent\"><img src=\"https://colab.research.google.com/assets/colab-badge.svg\" alt=\"Open In Colab\"/></a>"
      ]
    },
    {
      "cell_type": "markdown",
      "source": [
        "https://numpy.org/"
      ],
      "metadata": {
        "id": "jbIdkuCisuca"
      }
    },
    {
      "cell_type": "code",
      "source": [
        "#numpy 모듈을 사용하기 위한 import문\n",
        "import numpy as np"
      ],
      "metadata": {
        "id": "6f7ur2jdu0A7"
      },
      "execution_count": 14,
      "outputs": []
    },
    {
      "cell_type": "code",
      "source": [
        "ls= [1,2,3,4,5]\n",
        "arr = np.array(ls)\n",
        "print(arr)\n",
        "print(type(arr)) #다차원"
      ],
      "metadata": {
        "colab": {
          "base_uri": "https://localhost:8080/"
        },
        "id": "vuolfzfjt_Kp",
        "outputId": "ef813e56-ada2-46c1-91de-c37a07a6d248"
      },
      "execution_count": 5,
      "outputs": [
        {
          "output_type": "stream",
          "name": "stdout",
          "text": [
            "[1 2 3 4 5]\n",
            "<class 'numpy.ndarray'>\n"
          ]
        }
      ]
    },
    {
      "cell_type": "code",
      "source": [
        "ls1 = [1,2,3]\n",
        "ls2 = [4,7,2]\n",
        "ls3 = ls1+ls2\n",
        "print(ls3) #파이썬 리스트의 합은 concat"
      ],
      "metadata": {
        "colab": {
          "base_uri": "https://localhost:8080/"
        },
        "id": "hHCPO30juftR",
        "outputId": "7951663e-5bf1-4251-86ab-95c4cbbd1bc3"
      },
      "execution_count": 6,
      "outputs": [
        {
          "output_type": "stream",
          "name": "stdout",
          "text": [
            "[1, 2, 3, 4, 7, 2]\n"
          ]
        }
      ]
    },
    {
      "cell_type": "code",
      "source": [
        "arr1 = np.array(ls1)\n",
        "arr2 = np.array(ls2)\n",
        "arr3 = arr1 + arr2\n",
        "print(arr3) #numpy의 + 연산은 행렬의 + 연산을 수행 "
      ],
      "metadata": {
        "colab": {
          "base_uri": "https://localhost:8080/"
        },
        "id": "UUoH5F-7vqNX",
        "outputId": "de327a5e-988b-4ff3-a3c7-8e6306e94c66"
      },
      "execution_count": 8,
      "outputs": [
        {
          "output_type": "stream",
          "name": "stdout",
          "text": [
            "[5 9 5]\n"
          ]
        }
      ]
    },
    {
      "cell_type": "code",
      "source": [
        "ls=[1,2,3]\n",
        "ls2 = ls*3\n",
        "print(ls2) #리스트 *수는 반복해서 나열 "
      ],
      "metadata": {
        "colab": {
          "base_uri": "https://localhost:8080/"
        },
        "id": "EX_-SvoRwCmq",
        "outputId": "97e1a8ea-5e55-45a9-ef0b-032d7840f1db"
      },
      "execution_count": 9,
      "outputs": [
        {
          "output_type": "stream",
          "name": "stdout",
          "text": [
            "[1, 2, 3, 1, 2, 3, 1, 2, 3]\n"
          ]
        }
      ]
    },
    {
      "cell_type": "code",
      "source": [
        "arr = np.array(ls)\n",
        "arr2 = arr*3\n",
        "print(arr2) #numpy의 ndarray*정수는 행렬 *정수 연산을 수행"
      ],
      "metadata": {
        "colab": {
          "base_uri": "https://localhost:8080/"
        },
        "id": "VlS-EMuYwk7u",
        "outputId": "8972fbdc-8084-4a02-b81d-fc5432619a17"
      },
      "execution_count": 10,
      "outputs": [
        {
          "output_type": "stream",
          "name": "stdout",
          "text": [
            "[3 6 9]\n"
          ]
        }
      ]
    },
    {
      "cell_type": "markdown",
      "source": [
        "%%time을 마킹하면 수행 시간을 측정해 줍니다."
      ],
      "metadata": {
        "id": "TluEk3Tw3-tN"
      }
    },
    {
      "cell_type": "code",
      "source": [
        "%%time \n",
        "#수행한 시간확인 가능, numpy 수행속도가 더 빠름.\n",
        "arr = np.arange(100000)"
      ],
      "metadata": {
        "colab": {
          "base_uri": "https://localhost:8080/"
        },
        "id": "MFmkoqEVw4RI",
        "outputId": "d5980693-9785-4d1e-8865-d8bc4f079223"
      },
      "execution_count": 11,
      "outputs": [
        {
          "output_type": "stream",
          "name": "stdout",
          "text": [
            "[1 2 3]\n",
            "CPU times: user 2.78 ms, sys: 0 ns, total: 2.78 ms\n",
            "Wall time: 2.64 ms\n"
          ]
        }
      ]
    },
    {
      "cell_type": "code",
      "source": [
        "%%time\n",
        "ls = list(range(100000))"
      ],
      "metadata": {
        "colab": {
          "base_uri": "https://localhost:8080/"
        },
        "id": "sKxl_vW23f9G",
        "outputId": "aef29390-91a0-4bd6-d80f-55b3cb0697c6"
      },
      "execution_count": 12,
      "outputs": [
        {
          "output_type": "stream",
          "name": "stdout",
          "text": [
            "CPU times: user 1.3 ms, sys: 3.18 ms, total: 4.49 ms\n",
            "Wall time: 4.49 ms\n"
          ]
        }
      ]
    },
    {
      "cell_type": "code",
      "source": [
        "arr = np.random.randn(2,3) #2X3 행렬을 생성(원소는 랜덤하게 결정)\n",
        "print(arr)"
      ],
      "metadata": {
        "colab": {
          "base_uri": "https://localhost:8080/"
        },
        "id": "3a65uoy74IMt",
        "outputId": "6946d68b-3d41-4ca9-e963-d0f8a45db5c2"
      },
      "execution_count": 16,
      "outputs": [
        {
          "output_type": "stream",
          "name": "stdout",
          "text": [
            "[[ 0.68082259 -0.94806296 -0.92574233]\n",
            " [-0.18553552  1.16087171  1.62283753]]\n"
          ]
        }
      ]
    },
    {
      "cell_type": "code",
      "source": [
        "# arr*3  #값이 바뀐거지 arr이 바뀐것이 아니다. 주의!\n",
        "arr2 = arr*3\n",
        "arr2"
      ],
      "metadata": {
        "colab": {
          "base_uri": "https://localhost:8080/"
        },
        "id": "EOr_aA0M4k9h",
        "outputId": "9a5c3b29-b8f3-4dee-8ac1-e784d0b64c0a"
      },
      "execution_count": 20,
      "outputs": [
        {
          "output_type": "execute_result",
          "data": {
            "text/plain": [
              "array([[ 2.04246777, -2.84418887, -2.77722698],\n",
              "       [-0.55660655,  3.48261512,  4.86851259]])"
            ]
          },
          "metadata": {},
          "execution_count": 20
        }
      ]
    },
    {
      "cell_type": "code",
      "source": [
        "arr"
      ],
      "metadata": {
        "colab": {
          "base_uri": "https://localhost:8080/"
        },
        "id": "kVqqZh7R4uEi",
        "outputId": "b509c5ff-7ad2-4e5f-f58e-538852931249"
      },
      "execution_count": 18,
      "outputs": [
        {
          "output_type": "execute_result",
          "data": {
            "text/plain": [
              "array([[ 0.68082259, -0.94806296, -0.92574233],\n",
              "       [-0.18553552,  1.16087171,  1.62283753]])"
            ]
          },
          "metadata": {},
          "execution_count": 18
        }
      ]
    },
    {
      "cell_type": "code",
      "source": [
        "arr.shape #구조 확인"
      ],
      "metadata": {
        "colab": {
          "base_uri": "https://localhost:8080/"
        },
        "id": "mVKwrSjJ5KDc",
        "outputId": "82755127-76b8-4d6d-d68e-94eaea20f6a8"
      },
      "execution_count": 21,
      "outputs": [
        {
          "output_type": "execute_result",
          "data": {
            "text/plain": [
              "(2, 3)"
            ]
          },
          "metadata": {},
          "execution_count": 21
        }
      ]
    },
    {
      "cell_type": "code",
      "source": [
        "arr.ndim #차원 확인"
      ],
      "metadata": {
        "colab": {
          "base_uri": "https://localhost:8080/"
        },
        "id": "Nig5gL1q5Ph7",
        "outputId": "fc6498ff-e3f2-4fee-acf5-3bd08c41d031"
      },
      "execution_count": 22,
      "outputs": [
        {
          "output_type": "execute_result",
          "data": {
            "text/plain": [
              "2"
            ]
          },
          "metadata": {},
          "execution_count": 22
        }
      ]
    },
    {
      "cell_type": "code",
      "source": [
        "arr.dtype #원소 타입 확인"
      ],
      "metadata": {
        "colab": {
          "base_uri": "https://localhost:8080/"
        },
        "id": "pNjXFmfP5TfB",
        "outputId": "7058abe5-85bd-4be7-d43a-f9e964a6f909"
      },
      "execution_count": 23,
      "outputs": [
        {
          "output_type": "execute_result",
          "data": {
            "text/plain": [
              "dtype('float64')"
            ]
          },
          "metadata": {},
          "execution_count": 23
        }
      ]
    },
    {
      "cell_type": "code",
      "source": [
        "arr = np.array([1,2,3])\n",
        "print(arr)\n",
        "print(arr.dtype)"
      ],
      "metadata": {
        "colab": {
          "base_uri": "https://localhost:8080/"
        },
        "id": "J54A4iEa5fvQ",
        "outputId": "217bd5ea-23c0-45cd-a1de-b496fc73080d"
      },
      "execution_count": 25,
      "outputs": [
        {
          "output_type": "stream",
          "name": "stdout",
          "text": [
            "[1 2 3]\n",
            "int64\n"
          ]
        }
      ]
    },
    {
      "cell_type": "code",
      "source": [
        "arr = np.array([1,2,3,4.2]) #정수와 실수로 배열 생성 => 모든 정수는 실수로 변환\n",
        "print(arr)\n",
        "print(arr.dtype)\n",
        "print(type(arr[0])) #numpy 배열에서는 모든 원소가 같은 형식으로 되어있음."
      ],
      "metadata": {
        "colab": {
          "base_uri": "https://localhost:8080/"
        },
        "id": "D1qwi9Q153Lf",
        "outputId": "8177a752-883a-440f-a8ea-a792f1264510"
      },
      "execution_count": 30,
      "outputs": [
        {
          "output_type": "stream",
          "name": "stdout",
          "text": [
            "[1.  2.  3.  4.2]\n",
            "float64\n",
            "<class 'numpy.float64'>\n"
          ]
        }
      ]
    },
    {
      "cell_type": "code",
      "source": [
        "arr = np.array([1,2,3,4.2,'a']) #수와 문자열로 배열 생성 => 모두 문자열로 변환\n",
        "print(arr)\n",
        "print(arr.dtype)\n",
        "print(type(arr[0])) #numpy 배열에서는 모든 원소가 같은 형식으로 되어있음."
      ],
      "metadata": {
        "colab": {
          "base_uri": "https://localhost:8080/"
        },
        "id": "V88wX3CI6Xsl",
        "outputId": "635bbd83-8263-4e7e-fd61-fa031e868741"
      },
      "execution_count": 31,
      "outputs": [
        {
          "output_type": "stream",
          "name": "stdout",
          "text": [
            "['1' '2' '3' '4.2' 'a']\n",
            "<U32\n",
            "<class 'numpy.str_'>\n"
          ]
        }
      ]
    },
    {
      "cell_type": "markdown",
      "source": [
        "다차원 배열 생성"
      ],
      "metadata": {
        "id": "SPodIIDt62xU"
      }
    },
    {
      "cell_type": "code",
      "source": [
        "ls = [1,2,3]\n",
        "arr = np.array(ls) #리스트를 입력 인자로 ndarray 개체 생성\n",
        "print(arr)\n",
        "print(type(arr))"
      ],
      "metadata": {
        "colab": {
          "base_uri": "https://localhost:8080/"
        },
        "id": "twGsqYfy65-P",
        "outputId": "bfb988f3-da82-46bd-9302-cb447fea2d37"
      },
      "execution_count": 33,
      "outputs": [
        {
          "output_type": "stream",
          "name": "stdout",
          "text": [
            "[1 2 3]\n",
            "<class 'numpy.ndarray'>\n"
          ]
        }
      ]
    },
    {
      "cell_type": "code",
      "source": [
        "ls = [[1,2,3],[2,5,6]]\n",
        "arr = np.array(ls) #리스트를 입력 인자로 ndarray 개체 생성\n",
        "print(arr)\n",
        "print(type(arr))"
      ],
      "metadata": {
        "colab": {
          "base_uri": "https://localhost:8080/"
        },
        "id": "P1M1NiLq7H65",
        "outputId": "0dcbd31d-861e-4067-85f4-bafbb4f37991"
      },
      "execution_count": 34,
      "outputs": [
        {
          "output_type": "stream",
          "name": "stdout",
          "text": [
            "[[1 2 3]\n",
            " [2 5 6]]\n",
            "<class 'numpy.ndarray'>\n"
          ]
        }
      ]
    },
    {
      "cell_type": "code",
      "source": [
        "arr = np.zeros(10)\n",
        "print(arr)\n",
        "print(\"구조:\",arr.shape)\n",
        "print(\"차원:\",arr.ndim)\n",
        "print(\"원소 형식:\",arr.dtype)"
      ],
      "metadata": {
        "colab": {
          "base_uri": "https://localhost:8080/"
        },
        "id": "1qjsVUeV7QtG",
        "outputId": "1528d7a1-2601-4894-deeb-348be037e056"
      },
      "execution_count": 39,
      "outputs": [
        {
          "output_type": "stream",
          "name": "stdout",
          "text": [
            "[0. 0. 0. 0. 0. 0. 0. 0. 0. 0.]\n",
            "구조: (10,)\n",
            "차원: 1\n",
            "원소 형식: float64\n"
          ]
        }
      ]
    },
    {
      "cell_type": "code",
      "source": [
        "arr = np.zeros((3,6))\n",
        "print(arr)\n",
        "print(\"구조:\",arr.shape)\n",
        "print(\"차원:\",arr.ndim)\n",
        "print(\"원소 형식:\",arr.dtype)"
      ],
      "metadata": {
        "colab": {
          "base_uri": "https://localhost:8080/"
        },
        "id": "kbxmsLX37wre",
        "outputId": "4ebd294f-ca3a-4b01-9336-7af66a17b4b5"
      },
      "execution_count": 40,
      "outputs": [
        {
          "output_type": "stream",
          "name": "stdout",
          "text": [
            "[[0. 0. 0. 0. 0. 0.]\n",
            " [0. 0. 0. 0. 0. 0.]\n",
            " [0. 0. 0. 0. 0. 0.]]\n",
            "구조: (3, 6)\n",
            "차원: 2\n",
            "원소 형식: float64\n"
          ]
        }
      ]
    },
    {
      "cell_type": "code",
      "source": [
        "arr = np.ones((3,6))\n",
        "print(arr)\n",
        "print(\"구조:\",arr.shape)\n",
        "print(\"차원:\",arr.ndim)\n",
        "print(\"원소 형식:\",arr.dtype)"
      ],
      "metadata": {
        "colab": {
          "base_uri": "https://localhost:8080/"
        },
        "id": "z2E3YKEk71EO",
        "outputId": "1900d2ac-228b-4da8-eddb-2a4619db526c"
      },
      "execution_count": 41,
      "outputs": [
        {
          "output_type": "stream",
          "name": "stdout",
          "text": [
            "[[1. 1. 1. 1. 1. 1.]\n",
            " [1. 1. 1. 1. 1. 1.]\n",
            " [1. 1. 1. 1. 1. 1.]]\n",
            "구조: (3, 6)\n",
            "차원: 2\n",
            "원소 형식: float64\n"
          ]
        }
      ]
    },
    {
      "cell_type": "code",
      "source": [
        "arr = np.arange(20)\n",
        "print(arr)\n",
        "print(\"구조:\",arr.shape)\n",
        "print(\"차원:\",arr.ndim)\n",
        "print(\"원소 형식:\",arr.dtype)"
      ],
      "metadata": {
        "colab": {
          "base_uri": "https://localhost:8080/"
        },
        "id": "XSGaoanW8hba",
        "outputId": "9317589b-7266-4477-efab-63e82a7b118a"
      },
      "execution_count": 42,
      "outputs": [
        {
          "output_type": "stream",
          "name": "stdout",
          "text": [
            "[ 0  1  2  3  4  5  6  7  8  9 10 11 12 13 14 15 16 17 18 19]\n",
            "구조: (20,)\n",
            "차원: 1\n",
            "원소 형식: int64\n"
          ]
        }
      ]
    },
    {
      "cell_type": "code",
      "source": [
        "arr = np.arange(3,20,4)\n",
        "print(arr)\n",
        "print(\"구조:\",arr.shape)\n",
        "print(\"차원:\",arr.ndim)\n",
        "print(\"원소 형식:\",arr.dtype)"
      ],
      "metadata": {
        "colab": {
          "base_uri": "https://localhost:8080/"
        },
        "id": "cqNU0go88l1y",
        "outputId": "8b185fda-a1bd-4f05-8cd7-3911deadae61"
      },
      "execution_count": 43,
      "outputs": [
        {
          "output_type": "stream",
          "name": "stdout",
          "text": [
            "[ 3  7 11 15 19]\n",
            "구조: (5,)\n",
            "차원: 1\n",
            "원소 형식: int64\n"
          ]
        }
      ]
    },
    {
      "cell_type": "markdown",
      "source": [
        "원소 타입"
      ],
      "metadata": {
        "id": "EkQfRyNDBgxg"
      }
    },
    {
      "cell_type": "code",
      "source": [
        "arr = np.array([1,2,3])\n",
        "print(type(arr[0]), type(arr[1]), type(arr[2]))\n",
        "print(arr.dtype)"
      ],
      "metadata": {
        "colab": {
          "base_uri": "https://localhost:8080/"
        },
        "id": "HpWGfvcjBisx",
        "outputId": "659bae1a-6fb8-4de9-e0c6-d0373499d821"
      },
      "execution_count": 44,
      "outputs": [
        {
          "output_type": "stream",
          "name": "stdout",
          "text": [
            "<class 'numpy.int64'> <class 'numpy.int64'> <class 'numpy.int64'>\n",
            "int64\n"
          ]
        }
      ]
    },
    {
      "cell_type": "code",
      "source": [
        "arr = np.array([1,2,4.2],dtype=np.int32) #dytpe 인자를 이용하여 명시적으로 원소 형식 결정\n",
        "print(type(arr[0]), type(arr[1]), type(arr[2]))\n",
        "print(arr.dtype)\n",
        "print(arr)"
      ],
      "metadata": {
        "colab": {
          "base_uri": "https://localhost:8080/"
        },
        "id": "DmrT9ExwBwQD",
        "outputId": "9a0b80d2-642f-4c44-f929-93448c77fa09"
      },
      "execution_count": 46,
      "outputs": [
        {
          "output_type": "stream",
          "name": "stdout",
          "text": [
            "<class 'numpy.int32'> <class 'numpy.int32'> <class 'numpy.int32'>\n",
            "int32\n",
            "[1 2 4]\n"
          ]
        }
      ]
    },
    {
      "cell_type": "markdown",
      "source": [
        "산술 연산"
      ],
      "metadata": {
        "id": "QbrrMds5ChUj"
      }
    },
    {
      "cell_type": "code",
      "source": [
        "arr = np.array([[1,2,3],[4,5,6]])\n",
        "print(arr)\n",
        "print(\"===============\")\n",
        "arr2 = arr * arr\n",
        "print(arr2)"
      ],
      "metadata": {
        "colab": {
          "base_uri": "https://localhost:8080/"
        },
        "id": "6-Qf4S7dCjqD",
        "outputId": "d5226773-c5ce-4a6c-97a2-81f7035e52a7"
      },
      "execution_count": 48,
      "outputs": [
        {
          "output_type": "stream",
          "name": "stdout",
          "text": [
            "[[1 2 3]\n",
            " [4 5 6]]\n",
            "===============\n",
            "[[ 1  4  9]\n",
            " [16 25 36]]\n"
          ]
        }
      ]
    },
    {
      "cell_type": "code",
      "source": [
        "arr2 = arr-arr\n",
        "print(arr2)"
      ],
      "metadata": {
        "colab": {
          "base_uri": "https://localhost:8080/"
        },
        "id": "iewROmK6C_8A",
        "outputId": "8ee79316-71b1-443d-a0d7-a174938bab8b"
      },
      "execution_count": 49,
      "outputs": [
        {
          "output_type": "stream",
          "name": "stdout",
          "text": [
            "[[0 0 0]\n",
            " [0 0 0]]\n"
          ]
        }
      ]
    },
    {
      "cell_type": "code",
      "source": [
        "arr2 = 1/arr\n",
        "print(arr2)"
      ],
      "metadata": {
        "colab": {
          "base_uri": "https://localhost:8080/"
        },
        "id": "3mIhXGImDJuF",
        "outputId": "a51a9305-e353-4397-cb3e-5473345a6882"
      },
      "execution_count": 50,
      "outputs": [
        {
          "output_type": "stream",
          "name": "stdout",
          "text": [
            "[[1.         0.5        0.33333333]\n",
            " [0.25       0.2        0.16666667]]\n"
          ]
        }
      ]
    },
    {
      "cell_type": "code",
      "source": [
        "arr2 = arr**0.5\n",
        "print(arr2)"
      ],
      "metadata": {
        "colab": {
          "base_uri": "https://localhost:8080/"
        },
        "id": "ZZ2gQ1_aDNGq",
        "outputId": "7ab208e4-29a6-4d25-b632-c3f8f9b83ed3"
      },
      "execution_count": 51,
      "outputs": [
        {
          "output_type": "stream",
          "name": "stdout",
          "text": [
            "[[1.         1.41421356 1.73205081]\n",
            " [2.         2.23606798 2.44948974]]\n"
          ]
        }
      ]
    },
    {
      "cell_type": "code",
      "source": [
        "arr1 = np.array([1,2,3]) # 같은 행끼리 비교해서 > , < 비교 -> True,False \n",
        "arr2 = np.array([4,0,2])\n",
        "fillter = arr1>arr2\n",
        "print(fillter)"
      ],
      "metadata": {
        "colab": {
          "base_uri": "https://localhost:8080/"
        },
        "id": "URo52_U7DgJa",
        "outputId": "a4d68d42-e2e0-40ac-d556-d54ea3445847"
      },
      "execution_count": 52,
      "outputs": [
        {
          "output_type": "stream",
          "name": "stdout",
          "text": [
            "[False  True  True]\n"
          ]
        }
      ]
    },
    {
      "cell_type": "markdown",
      "source": [
        "색인 및 슬라이싱"
      ],
      "metadata": {
        "id": "bO51DD8LEATf"
      }
    },
    {
      "cell_type": "code",
      "source": [
        "arr = np.arange(10000)"
      ],
      "metadata": {
        "id": "kb1fBR-QECEn"
      },
      "execution_count": 53,
      "outputs": []
    },
    {
      "cell_type": "code",
      "source": [
        "print(arr[5:8])"
      ],
      "metadata": {
        "colab": {
          "base_uri": "https://localhost:8080/"
        },
        "id": "i7nIeP3uEJH4",
        "outputId": "681bb57d-aaeb-4dec-af9b-a232cb4d1988"
      },
      "execution_count": 54,
      "outputs": [
        {
          "output_type": "stream",
          "name": "stdout",
          "text": [
            "[5 6 7]\n"
          ]
        }
      ]
    },
    {
      "cell_type": "code",
      "source": [
        "print(arr[:8])"
      ],
      "metadata": {
        "colab": {
          "base_uri": "https://localhost:8080/"
        },
        "id": "oD3IHOFiEW0f",
        "outputId": "b950f6a4-a4ed-4c54-ca77-f51b9dd0d335"
      },
      "execution_count": 55,
      "outputs": [
        {
          "output_type": "stream",
          "name": "stdout",
          "text": [
            "[0 1 2 3 4 5 6 7]\n"
          ]
        }
      ]
    },
    {
      "cell_type": "code",
      "source": [
        "print(arr[995:])"
      ],
      "metadata": {
        "colab": {
          "base_uri": "https://localhost:8080/"
        },
        "id": "4ZwPe1U4Eev_",
        "outputId": "d8b46e7d-1cc2-46bd-cb50-cea98bbb80fb"
      },
      "execution_count": 57,
      "outputs": [
        {
          "output_type": "stream",
          "name": "stdout",
          "text": [
            "[ 995  996  997 ... 9997 9998 9999]\n"
          ]
        }
      ]
    },
    {
      "cell_type": "code",
      "source": [
        "print(arr[-5:])"
      ],
      "metadata": {
        "colab": {
          "base_uri": "https://localhost:8080/"
        },
        "id": "nWOsCADCEirl",
        "outputId": "116871b7-031b-404b-b8f4-d83c5ce3c618"
      },
      "execution_count": 58,
      "outputs": [
        {
          "output_type": "stream",
          "name": "stdout",
          "text": [
            "[9995 9996 9997 9998 9999]\n"
          ]
        }
      ]
    },
    {
      "cell_type": "code",
      "source": [
        "arr = np.zeros(30)\n",
        "print(arr)"
      ],
      "metadata": {
        "colab": {
          "base_uri": "https://localhost:8080/"
        },
        "id": "WYGg1vpHEsbJ",
        "outputId": "bb4a3ad5-871d-4b69-defa-76f5363816f4"
      },
      "execution_count": 59,
      "outputs": [
        {
          "output_type": "stream",
          "name": "stdout",
          "text": [
            "[0. 0. 0. 0. 0. 0. 0. 0. 0. 0. 0. 0. 0. 0. 0. 0. 0. 0. 0. 0. 0. 0. 0. 0.\n",
            " 0. 0. 0. 0. 0. 0.]\n"
          ]
        }
      ]
    },
    {
      "cell_type": "code",
      "source": [
        "arr[5:8] = 7\n",
        "print(arr) #브로드캐스팅 가능 "
      ],
      "metadata": {
        "colab": {
          "base_uri": "https://localhost:8080/"
        },
        "id": "8-l-qmeGExOP",
        "outputId": "1a2004c7-bf85-4f80-c63f-bef534910efb"
      },
      "execution_count": 60,
      "outputs": [
        {
          "output_type": "stream",
          "name": "stdout",
          "text": [
            "[0. 0. 0. 0. 0. 7. 7. 7. 0. 0. 0. 0. 0. 0. 0. 0. 0. 0. 0. 0. 0. 0. 0. 0.\n",
            " 0. 0. 0. 0. 0. 0.]\n"
          ]
        }
      ]
    },
    {
      "cell_type": "code",
      "source": [
        "arr = np.array([[1,2,3],[4,5,6],[7,8,9]])\n",
        "print(arr)"
      ],
      "metadata": {
        "colab": {
          "base_uri": "https://localhost:8080/"
        },
        "id": "3K4Gs956E8dc",
        "outputId": "6241e626-f6d1-4c84-eb9c-961adf2746df"
      },
      "execution_count": 61,
      "outputs": [
        {
          "output_type": "stream",
          "name": "stdout",
          "text": [
            "[[1 2 3]\n",
            " [4 5 6]\n",
            " [7 8 9]]\n"
          ]
        }
      ]
    },
    {
      "cell_type": "code",
      "source": [
        "print(arr[0])\n",
        "print(arr[1])\n",
        "print(arr[2])"
      ],
      "metadata": {
        "colab": {
          "base_uri": "https://localhost:8080/"
        },
        "id": "ccsQL7SwFHD7",
        "outputId": "b83e25ad-8ab5-4cb8-8013-a666a5cc3c20"
      },
      "execution_count": 63,
      "outputs": [
        {
          "output_type": "stream",
          "name": "stdout",
          "text": [
            "[1 2 3]\n",
            "[4 5 6]\n",
            "[7 8 9]\n"
          ]
        }
      ]
    },
    {
      "cell_type": "markdown",
      "source": [],
      "metadata": {
        "id": "dVO7GiKNe3p8"
      }
    },
    {
      "cell_type": "code",
      "source": [
        "print(arr[0][2])"
      ],
      "metadata": {
        "colab": {
          "base_uri": "https://localhost:8080/"
        },
        "id": "KJis6xdlFT3w",
        "outputId": "023aa0dc-a945-470f-9afd-b26c44d46592"
      },
      "execution_count": 64,
      "outputs": [
        {
          "output_type": "stream",
          "name": "stdout",
          "text": [
            "3\n"
          ]
        }
      ]
    },
    {
      "cell_type": "code",
      "source": [
        "print(arr[0,2])"
      ],
      "metadata": {
        "colab": {
          "base_uri": "https://localhost:8080/"
        },
        "id": "6CGMi9sUFWoH",
        "outputId": "b5b78d13-25be-4c8a-def1-12162b689f5e"
      },
      "execution_count": 65,
      "outputs": [
        {
          "output_type": "stream",
          "name": "stdout",
          "text": [
            "3\n"
          ]
        }
      ]
    },
    {
      "cell_type": "code",
      "source": [
        "#소스 배열을 가지고 간단한 실험을 하기 위해서 복사하여 사용하기\n",
        "cp_arr = arr.copy()\n",
        "print(cp_arr)\n",
        "cp_arr[0][1]=8\n",
        "print(cp_arr)\n",
        "print(arr)"
      ],
      "metadata": {
        "colab": {
          "base_uri": "https://localhost:8080/"
        },
        "id": "hf_xvL0xFkvW",
        "outputId": "46aa3baf-c0cd-4b4d-940d-59c3d3133a10"
      },
      "execution_count": 69,
      "outputs": [
        {
          "output_type": "stream",
          "name": "stdout",
          "text": [
            "[[1 2 3]\n",
            " [4 5 6]\n",
            " [7 8 9]]\n",
            "[[1 8 3]\n",
            " [4 5 6]\n",
            " [7 8 9]]\n",
            "[[1 2 3]\n",
            " [4 5 6]\n",
            " [7 8 9]]\n"
          ]
        }
      ]
    },
    {
      "cell_type": "code",
      "source": [
        "cp_arr = arr # arr과 cp_arr은 같은 개체를 참조\n",
        "print(cp_arr)\n",
        "cp_arr[0][1]=8\n",
        "print(cp_arr)\n",
        "print(arr)"
      ],
      "metadata": {
        "colab": {
          "base_uri": "https://localhost:8080/"
        },
        "id": "Y2UG_NWSF54G",
        "outputId": "e76a8cb1-89fa-4258-ae2e-8af6b8cf1070"
      },
      "execution_count": 70,
      "outputs": [
        {
          "output_type": "stream",
          "name": "stdout",
          "text": [
            "[[1 2 3]\n",
            " [4 5 6]\n",
            " [7 8 9]]\n",
            "[[1 8 3]\n",
            " [4 5 6]\n",
            " [7 8 9]]\n",
            "[[1 8 3]\n",
            " [4 5 6]\n",
            " [7 8 9]]\n"
          ]
        }
      ]
    },
    {
      "cell_type": "code",
      "source": [
        "arr = np.array([1,2,3])\n",
        "\n",
        "fillter = arr>=2 #평균치를 구한 후 비교\n",
        "print(fillter)"
      ],
      "metadata": {
        "colab": {
          "base_uri": "https://localhost:8080/"
        },
        "id": "rplDDoasHB5_",
        "outputId": "1e5afb61-5661-47e0-b84f-c2a31914928f"
      },
      "execution_count": 71,
      "outputs": [
        {
          "output_type": "stream",
          "name": "stdout",
          "text": [
            "[False  True  True]\n"
          ]
        }
      ]
    },
    {
      "cell_type": "code",
      "source": [
        "res = arr[fillter]\n",
        "print(res)"
      ],
      "metadata": {
        "colab": {
          "base_uri": "https://localhost:8080/"
        },
        "id": "NUrK-kSmHZ2O",
        "outputId": "908c2fd1-98c6-43d8-db9c-92dd721c243c"
      },
      "execution_count": 72,
      "outputs": [
        {
          "output_type": "stream",
          "name": "stdout",
          "text": [
            "[2 3]\n"
          ]
        }
      ]
    },
    {
      "cell_type": "code",
      "source": [
        "res = arr[~fillter]\n",
        "print(res)"
      ],
      "metadata": {
        "colab": {
          "base_uri": "https://localhost:8080/"
        },
        "id": "HYEYAK32HrHe",
        "outputId": "f63371ff-a134-401d-c6f2-d621048ec210"
      },
      "execution_count": 73,
      "outputs": [
        {
          "output_type": "stream",
          "name": "stdout",
          "text": [
            "[1]\n"
          ]
        }
      ]
    },
    {
      "cell_type": "markdown",
      "source": [
        "구조 변경"
      ],
      "metadata": {
        "id": "1p9OzYrxIaPF"
      }
    },
    {
      "cell_type": "code",
      "source": [
        "arr = np.arange(96)\n",
        "print(\"구조:\", arr.shape)\n",
        "print(\"차원:\", arr.ndim)"
      ],
      "metadata": {
        "colab": {
          "base_uri": "https://localhost:8080/"
        },
        "id": "oXN0GF62IbXc",
        "outputId": "83740f53-dd0b-44a3-d7fa-8c359e92fb66"
      },
      "execution_count": 74,
      "outputs": [
        {
          "output_type": "stream",
          "name": "stdout",
          "text": [
            "구조: (96,)\n",
            "차원: 1\n"
          ]
        }
      ]
    },
    {
      "cell_type": "code",
      "source": [
        "arr2 = arr.reshape((6,16))\n",
        "print(\"구조:\", arr2.shape)\n",
        "print(\"차원:\", arr2.ndim)"
      ],
      "metadata": {
        "colab": {
          "base_uri": "https://localhost:8080/"
        },
        "id": "uX-a7XQeIoOl",
        "outputId": "c5a6838f-318b-4448-f911-aeeee4bb3a24"
      },
      "execution_count": 76,
      "outputs": [
        {
          "output_type": "stream",
          "name": "stdout",
          "text": [
            "구조: (6, 16)\n",
            "차원: 2\n"
          ]
        }
      ]
    },
    {
      "cell_type": "code",
      "source": [
        "#arr2 = arr.reshape((7,14))  # 7 * n 이 96이 아니라서 오류\n",
        "#print(\"구조:\", arr2.shape)\n",
        "#print(\"차원:\", arr2.ndim)"
      ],
      "metadata": {
        "colab": {
          "base_uri": "https://localhost:8080/",
          "height": 211
        },
        "id": "cF_9NPe1I0wV",
        "outputId": "02ab0e5f-4f74-4859-cdc2-1124ffd5b925"
      },
      "execution_count": 77,
      "outputs": [
        {
          "output_type": "error",
          "ename": "ValueError",
          "evalue": "ignored",
          "traceback": [
            "\u001b[0;31m---------------------------------------------------------------------------\u001b[0m",
            "\u001b[0;31mValueError\u001b[0m                                Traceback (most recent call last)",
            "\u001b[0;32m<ipython-input-77-26e53472d314>\u001b[0m in \u001b[0;36m<module>\u001b[0;34m\u001b[0m\n\u001b[0;32m----> 1\u001b[0;31m \u001b[0marr2\u001b[0m \u001b[0;34m=\u001b[0m \u001b[0marr\u001b[0m\u001b[0;34m.\u001b[0m\u001b[0mreshape\u001b[0m\u001b[0;34m(\u001b[0m\u001b[0;34m(\u001b[0m\u001b[0;36m7\u001b[0m\u001b[0;34m,\u001b[0m\u001b[0;36m14\u001b[0m\u001b[0;34m)\u001b[0m\u001b[0;34m)\u001b[0m\u001b[0;34m\u001b[0m\u001b[0;34m\u001b[0m\u001b[0m\n\u001b[0m\u001b[1;32m      2\u001b[0m \u001b[0mprint\u001b[0m\u001b[0;34m(\u001b[0m\u001b[0;34m\"구조:\"\u001b[0m\u001b[0;34m,\u001b[0m \u001b[0marr2\u001b[0m\u001b[0;34m.\u001b[0m\u001b[0mshape\u001b[0m\u001b[0;34m)\u001b[0m\u001b[0;34m\u001b[0m\u001b[0;34m\u001b[0m\u001b[0m\n\u001b[1;32m      3\u001b[0m \u001b[0mprint\u001b[0m\u001b[0;34m(\u001b[0m\u001b[0;34m\"차원:\"\u001b[0m\u001b[0;34m,\u001b[0m \u001b[0marr2\u001b[0m\u001b[0;34m.\u001b[0m\u001b[0mndim\u001b[0m\u001b[0;34m)\u001b[0m\u001b[0;34m\u001b[0m\u001b[0;34m\u001b[0m\u001b[0m\n",
            "\u001b[0;31mValueError\u001b[0m: cannot reshape array of size 96 into shape (7,14)"
          ]
        }
      ]
    },
    {
      "cell_type": "code",
      "source": [
        "arr2 = arr.reshape((6, -1)) # 구조 변경 요청할 때 하나의 차원은 -1로 표현 가능(알아서 계산)\n",
        "print(\"구조:\", arr2.shape)\n",
        "print(\"차원:\", arr2.ndim)"
      ],
      "metadata": {
        "colab": {
          "base_uri": "https://localhost:8080/"
        },
        "id": "2VjQX7CsJJTH",
        "outputId": "27d4fb25-556f-4895-f4f5-69a80f643f10"
      },
      "execution_count": 78,
      "outputs": [
        {
          "output_type": "stream",
          "name": "stdout",
          "text": [
            "구조: (6, 16)\n",
            "차원: 2\n"
          ]
        }
      ]
    },
    {
      "cell_type": "code",
      "source": [
        "arr = np.array([[1,2,3],[4,5,6]]) \n",
        "arr2 = arr.T #전치 행렬\n",
        "print(arr)\n",
        "print(\"=========\")\n",
        "print(arr2)"
      ],
      "metadata": {
        "colab": {
          "base_uri": "https://localhost:8080/"
        },
        "id": "XaOnQoDZJZqD",
        "outputId": "fceb0b25-fd81-4919-b37d-b5ae6558d614"
      },
      "execution_count": 79,
      "outputs": [
        {
          "output_type": "stream",
          "name": "stdout",
          "text": [
            "[[1 2 3]\n",
            " [4 5 6]]\n",
            "=========\n",
            "[[1 4]\n",
            " [2 5]\n",
            " [3 6]]\n"
          ]
        }
      ]
    },
    {
      "cell_type": "code",
      "source": [
        "arr2 = arr.transpose() #arr.T와 arr.transpose()는 같은 결과(전치행렬)를 반환한다.\n",
        "print(arr)\n",
        "print(\"=========\")\n",
        "print(arr2)"
      ],
      "metadata": {
        "colab": {
          "base_uri": "https://localhost:8080/"
        },
        "id": "pdVNhbm1J1-H",
        "outputId": "ae60ebf3-02a2-4de6-cc76-4f38c68b2748"
      },
      "execution_count": 80,
      "outputs": [
        {
          "output_type": "stream",
          "name": "stdout",
          "text": [
            "[[1 2 3]\n",
            " [4 5 6]]\n",
            "=========\n",
            "[[1 4]\n",
            " [2 5]\n",
            " [3 6]]\n"
          ]
        }
      ]
    },
    {
      "cell_type": "code",
      "source": [
        "arr = np.arange(10)\n",
        "print(arr)"
      ],
      "metadata": {
        "colab": {
          "base_uri": "https://localhost:8080/"
        },
        "id": "tsF2yNisKI4t",
        "outputId": "45714f9c-da2d-45a6-dd04-fd4c4bcf2f37"
      },
      "execution_count": 81,
      "outputs": [
        {
          "output_type": "stream",
          "name": "stdout",
          "text": [
            "[0 1 2 3 4 5 6 7 8 9]\n"
          ]
        }
      ]
    },
    {
      "cell_type": "code",
      "source": [
        "arr2 = np.sqrt(arr)\n",
        "print(arr2)\n",
        "print(arr)"
      ],
      "metadata": {
        "colab": {
          "base_uri": "https://localhost:8080/"
        },
        "id": "Q7gAdd-7KMmC",
        "outputId": "55f23461-c012-4e29-9002-d3f5f462c241"
      },
      "execution_count": 82,
      "outputs": [
        {
          "output_type": "stream",
          "name": "stdout",
          "text": [
            "[0.         1.         1.41421356 1.73205081 2.         2.23606798\n",
            " 2.44948974 2.64575131 2.82842712 3.        ]\n",
            "[0 1 2 3 4 5 6 7 8 9]\n"
          ]
        }
      ]
    },
    {
      "cell_type": "code",
      "source": [
        "arr1 = np.random.randn(2,3)\n",
        "print(arr1)\n",
        "print(\"===========================================\")\n",
        "arr2 = np.random.randn(2,3)\n",
        "print(arr2)"
      ],
      "metadata": {
        "colab": {
          "base_uri": "https://localhost:8080/"
        },
        "id": "_Ck-nRLCL3ix",
        "outputId": "5416ac5d-6d70-4827-f91e-801b4a3fe968"
      },
      "execution_count": 86,
      "outputs": [
        {
          "output_type": "stream",
          "name": "stdout",
          "text": [
            "[[-0.35193413  0.89178704  0.1987887 ]\n",
            " [ 1.70436815  1.9071598   1.88783091]]\n",
            "===========================================\n",
            "[[-0.88450659  0.20528611 -0.52951536]\n",
            " [-0.88891234  1.59624974 -0.78934137]]\n"
          ]
        }
      ]
    },
    {
      "cell_type": "code",
      "source": [
        "arr3 = np.maximum(arr1, arr2)\n",
        "print(arr3)"
      ],
      "metadata": {
        "colab": {
          "base_uri": "https://localhost:8080/"
        },
        "id": "S_lNEbwYL-3V",
        "outputId": "81970d0c-a558-46a6-b45d-abb422d6af93"
      },
      "execution_count": 84,
      "outputs": [
        {
          "output_type": "stream",
          "name": "stdout",
          "text": [
            "[[ 1.04025366 -0.86793055 -0.46002979]\n",
            " [ 2.01655676 -0.01304051  1.84969505]]\n"
          ]
        }
      ]
    },
    {
      "cell_type": "markdown",
      "source": [
        "# Numpy 안으로"
      ],
      "metadata": {
        "id": "9YB0BzThgXIk"
      }
    },
    {
      "cell_type": "code",
      "source": [
        "# 잠시 파이썬 기본 문법 - 리스트 컴프리헨션\n",
        "xs = [x*x+2*x+3 for x in range(1, 10)] #리스트 컴프리헨션\n",
        "print(xs)"
      ],
      "metadata": {
        "colab": {
          "base_uri": "https://localhost:8080/"
        },
        "id": "Qd0vrtrqgaKF",
        "outputId": "88546deb-6778-485c-8052-56fc061033e4"
      },
      "execution_count": 87,
      "outputs": [
        {
          "output_type": "stream",
          "name": "stdout",
          "text": [
            "[6, 11, 18, 27, 38, 51, 66, 83, 102]\n"
          ]
        }
      ]
    },
    {
      "cell_type": "code",
      "source": [
        "xs=[]\n",
        "for x in range(1,10):\n",
        "   xs.append(x*x+2*x+3)\n",
        "print(xs) # 위 코드와 동일"
      ],
      "metadata": {
        "colab": {
          "base_uri": "https://localhost:8080/"
        },
        "id": "IVppe19bg2Yu",
        "outputId": "f8c5719e-7abe-4d19-aff4-6fe37c5bb131"
      },
      "execution_count": 88,
      "outputs": [
        {
          "output_type": "stream",
          "name": "stdout",
          "text": [
            "[6, 11, 18, 27, 38, 51, 66, 83, 102]\n"
          ]
        }
      ]
    },
    {
      "cell_type": "code",
      "source": [
        "xarr = np.array([1.1,1.2,1.3,1.4,1.5])\n",
        "yarr = np.array([2.1,2.2,2.3,2.4,2.5])\n",
        "cond = np.array([True,False,True,True,False])"
      ],
      "metadata": {
        "id": "09x9pYJUhuYZ"
      },
      "execution_count": 90,
      "outputs": []
    },
    {
      "cell_type": "code",
      "source": [
        "# 파이썬 기초 문법 - zip 사용 예\n",
        "ls1=[1,2,3]\n",
        "ls2 = ['가','나','다']\n",
        "for e1, e2 in zip(ls1,ls2):\n",
        "  print(e1,e2)"
      ],
      "metadata": {
        "colab": {
          "base_uri": "https://localhost:8080/"
        },
        "id": "XSqCeISYh04l",
        "outputId": "723be375-98ec-4f5d-faf7-3a57f7d2e770"
      },
      "execution_count": 91,
      "outputs": [
        {
          "output_type": "stream",
          "name": "stdout",
          "text": [
            "1 가\n",
            "2 나\n",
            "3 다\n"
          ]
        }
      ]
    },
    {
      "cell_type": "code",
      "source": [
        "result = [(x if c else y) for x,y,c in zip(xarr,yarr,cond)]\n",
        "print(result)"
      ],
      "metadata": {
        "colab": {
          "base_uri": "https://localhost:8080/"
        },
        "id": "gDAUr535iS--",
        "outputId": "ca657ba6-d0b9-465c-ee7f-1f5ba3f3c988"
      },
      "execution_count": 92,
      "outputs": [
        {
          "output_type": "stream",
          "name": "stdout",
          "text": [
            "[1.1, 2.2, 1.3, 1.4, 2.5]\n"
          ]
        }
      ]
    },
    {
      "cell_type": "code",
      "source": [
        "result=[]\n",
        "for x,y,c in zip(xarr,yarr,cond):\n",
        "  if c:\n",
        "    result.append(x)\n",
        "  else:\n",
        "    result.append(y)\n",
        "print(result)"
      ],
      "metadata": {
        "colab": {
          "base_uri": "https://localhost:8080/"
        },
        "id": "1mRjnDhpigUo",
        "outputId": "7defb23c-2612-40f9-9579-189197913ef4"
      },
      "execution_count": 93,
      "outputs": [
        {
          "output_type": "stream",
          "name": "stdout",
          "text": [
            "[1.1, 2.2, 1.3, 1.4, 2.5]\n"
          ]
        }
      ]
    },
    {
      "cell_type": "code",
      "source": [
        "result = np.where(cond,xarr,yarr)\n",
        "print(result)"
      ],
      "metadata": {
        "colab": {
          "base_uri": "https://localhost:8080/"
        },
        "id": "0YjkMthUjWo2",
        "outputId": "57055c46-6cfd-4484-87ac-fcedce6433c5"
      },
      "execution_count": 94,
      "outputs": [
        {
          "output_type": "stream",
          "name": "stdout",
          "text": [
            "[1.1 2.2 1.3 1.4 2.5]\n"
          ]
        }
      ]
    },
    {
      "cell_type": "code",
      "source": [
        "result = np.where(cond,1,2)\n",
        "print(result)"
      ],
      "metadata": {
        "colab": {
          "base_uri": "https://localhost:8080/"
        },
        "id": "e-bjCXPsj3sQ",
        "outputId": "420528b4-fcfd-491c-803f-4f388acee844"
      },
      "execution_count": 95,
      "outputs": [
        {
          "output_type": "stream",
          "name": "stdout",
          "text": [
            "[1 2 1 1 2]\n"
          ]
        }
      ]
    },
    {
      "cell_type": "code",
      "source": [
        "heights = np.random.normal(172.4,5,1000) #평균 172.4 표준편차 5인 표본 1000개를 생성\n",
        "print(heights)"
      ],
      "metadata": {
        "colab": {
          "base_uri": "https://localhost:8080/"
        },
        "id": "6OU7o-xwke2X",
        "outputId": "cc821c62-5c65-4fa9-c645-95b6e7705e8f"
      },
      "execution_count": 98,
      "outputs": [
        {
          "output_type": "stream",
          "name": "stdout",
          "text": [
            "[172.1828437  175.16908892 171.64938393 169.05531831 170.15934791\n",
            " 168.83038603 179.20196726 174.23606754 167.51905957 176.79321281\n",
            " 174.47036543 170.44188065 175.20198554 170.29732769 168.16662516\n",
            " 172.61443777 167.8009188  173.20855897 177.49788736 179.38352791\n",
            " 169.90844117 170.13904557 172.0124249  178.7948107  176.91295723\n",
            " 174.73317673 174.53110589 175.76014408 170.5846333  172.64143221\n",
            " 164.89091528 173.19926671 171.46693324 168.79028807 164.1347969\n",
            " 169.27765155 172.42570095 172.14520998 157.98333641 175.41676203\n",
            " 171.45580389 181.61591346 176.7548849  173.98801907 172.96054544\n",
            " 176.18582371 174.31214874 178.74801015 163.25526686 170.74736354\n",
            " 173.88186842 167.401951   175.92678212 175.94482669 176.33226683\n",
            " 170.72546349 171.80182746 174.10710991 176.34132722 178.64196786\n",
            " 161.27442938 164.88445307 179.86615988 170.64807595 177.7567128\n",
            " 172.02809738 168.47670717 179.72110667 159.60224377 176.09740854\n",
            " 175.51243932 174.12555307 173.86688805 171.78405838 176.61758187\n",
            " 175.6937062  164.40418492 167.63485871 167.16112126 171.61426942\n",
            " 167.82953459 177.79241248 165.02927772 171.07215774 172.45132766\n",
            " 171.83275987 170.05403333 179.57495543 183.1435431  170.14767301\n",
            " 171.53734808 171.73870242 172.06555294 171.63552718 175.24797097\n",
            " 168.49400138 178.11513333 174.31440011 170.07967516 166.83607459\n",
            " 182.67837479 173.35265832 166.03153564 172.13041749 168.88112232\n",
            " 172.93281482 177.81761766 176.0329189  179.29974148 182.80697409\n",
            " 175.4748712  175.6791741  178.69509293 179.71321291 174.13895751\n",
            " 171.56024903 169.20096697 163.8967363  170.4288278  166.80139719\n",
            " 173.70520681 172.50704046 165.35173319 164.81670099 169.17332397\n",
            " 178.92958533 166.23279914 171.8313607  164.97298359 173.97134259\n",
            " 176.25631408 167.60440918 174.21109563 166.55588928 173.3127314\n",
            " 173.29316179 168.08255664 167.55032012 169.8630887  162.67918933\n",
            " 169.18874587 177.31956128 168.81859337 171.31133411 165.51975949\n",
            " 177.36511948 172.17704139 168.08206572 169.83372535 180.01282781\n",
            " 163.46476908 167.18190347 166.9757482  173.99267327 170.46162962\n",
            " 172.9016921  167.97082963 171.04225349 171.12518825 176.68679004\n",
            " 175.00009619 169.02890821 180.86243265 184.85819336 170.04602458\n",
            " 165.59996352 169.68852477 174.94605269 172.6323376  174.47067151\n",
            " 166.50571599 167.95481563 166.60306726 179.47812943 170.88394298\n",
            " 176.48514981 169.07003226 165.37696667 169.71152061 170.3293405\n",
            " 173.63470083 179.18066465 174.23590638 173.52393689 168.24180375\n",
            " 177.49058752 171.19998836 175.05923212 174.01044991 171.35875551\n",
            " 177.04697343 171.42568137 170.05183623 169.87811841 168.35054835\n",
            " 170.24536367 174.08120614 173.35668218 173.20444621 170.97698786\n",
            " 175.74592693 167.81474717 168.84379352 172.30777715 168.01987168\n",
            " 164.53556748 176.47198077 172.05973771 173.95814863 171.12586975\n",
            " 169.58753459 164.31699415 173.27253853 166.01914259 173.19043141\n",
            " 166.62222935 171.16326789 179.31116521 168.31858399 170.09349796\n",
            " 170.18425945 179.0824164  171.45498338 172.85413425 174.21390105\n",
            " 171.2334468  167.98595    175.43061121 157.28913925 165.29724131\n",
            " 165.59086211 166.5599712  166.83045803 172.63062265 173.14643556\n",
            " 173.9282909  177.6757241  173.01527553 175.39952504 177.57096141\n",
            " 175.8981284  168.84455216 176.26710362 181.4436987  178.49083235\n",
            " 166.75480196 175.75424816 162.35625094 174.83271752 175.6631112\n",
            " 172.61170924 171.36112412 180.51218866 175.89663585 176.75412628\n",
            " 178.05337195 168.1504349  170.81691165 180.2441077  164.35502656\n",
            " 171.65587521 171.59253163 176.09443689 179.90462593 169.66748643\n",
            " 176.70940301 177.87264181 175.94988308 170.55331508 173.6327718\n",
            " 173.53552262 170.12889484 171.13953998 172.95019429 173.72642782\n",
            " 175.55684817 173.93518377 171.29883565 166.36532106 178.38656842\n",
            " 170.09228443 175.83050186 176.61886239 173.94118997 176.4883116\n",
            " 171.81537734 177.23013976 165.38281688 165.38757075 170.60994195\n",
            " 171.54272828 180.67946188 174.86710987 168.93766424 171.67776928\n",
            " 184.16585348 176.51007191 165.22446004 171.07880791 173.51927825\n",
            " 181.82521111 164.58927465 177.16443427 174.99523659 161.57789578\n",
            " 172.66800062 166.87329355 169.81326487 169.95186292 171.12941735\n",
            " 176.54756355 161.42398705 170.91663404 172.16369516 175.45402709\n",
            " 173.97141523 168.02843092 175.90026657 173.69574009 174.803918\n",
            " 167.11161007 176.82671833 173.58885171 179.8349378  161.22926575\n",
            " 170.30565211 160.56178394 175.73591248 165.04968123 173.61273391\n",
            " 175.5438468  176.63209615 178.31354277 183.47155221 184.90266152\n",
            " 161.85939039 163.81388908 176.92395899 177.8034178  173.43075424\n",
            " 178.96789333 176.69571653 169.77262235 170.7611652  174.08343599\n",
            " 175.46292206 168.7920318  167.81696101 177.78996636 177.04239001\n",
            " 169.27232177 172.79622045 180.29589346 180.77966861 169.25223716\n",
            " 178.19441241 171.93107591 165.73870609 184.40248002 177.76152658\n",
            " 178.58555127 172.30443316 178.93279666 177.8711662  175.20162523\n",
            " 171.93814582 164.69847271 173.28045526 174.82773286 176.72012868\n",
            " 173.29476316 177.16603352 171.36155073 169.01979597 171.10981918\n",
            " 175.74122672 162.53373199 170.98271102 172.12904953 176.96204562\n",
            " 171.53480837 172.24345396 166.38646664 182.43907886 172.55118921\n",
            " 168.23851494 181.69552734 166.11369281 167.27456686 174.32875269\n",
            " 177.26118849 179.77852268 177.74319683 169.15253618 178.14582477\n",
            " 174.47694164 172.27226136 171.14366982 163.68369228 176.54216569\n",
            " 169.9655587  178.37440499 168.78053933 174.41134842 163.42623278\n",
            " 169.10054716 178.99846904 172.18757722 180.97685198 170.61558612\n",
            " 176.50522764 175.51985281 165.6658077  180.18451446 173.39274524\n",
            " 164.8314045  178.99245733 178.29238383 168.03330334 181.809893\n",
            " 165.92876425 165.2129146  180.30101493 169.09812532 175.06291561\n",
            " 171.90715126 176.14808186 165.29385059 173.88054812 175.26717539\n",
            " 166.35655455 172.87854224 177.30506986 170.22161947 172.54995835\n",
            " 169.30921145 172.26250622 173.92409543 170.0746006  177.75522607\n",
            " 171.14874797 180.76724927 175.69666048 174.85102779 176.98428052\n",
            " 174.86477742 167.79340582 174.68643109 175.15294825 178.42400196\n",
            " 165.6801482  173.67668578 170.79912108 174.63356071 173.66357354\n",
            " 166.55555538 177.71335432 174.48460101 169.63042645 166.25482138\n",
            " 162.81042502 177.15777289 172.99661027 174.25945916 173.82686146\n",
            " 179.86037853 166.4559711  169.21705355 172.38699359 174.35904817\n",
            " 166.46040034 176.57587574 178.44326378 166.00368014 169.47315233\n",
            " 173.39314533 172.96851585 175.19322127 170.69305436 180.8761094\n",
            " 176.19799441 160.88223754 175.73985268 169.60382064 175.49884198\n",
            " 182.20646896 176.27308358 160.74583587 170.94723095 177.77610275\n",
            " 171.8495389  171.91956817 170.17366227 173.85389397 171.07490165\n",
            " 167.82437116 168.65150599 172.77147051 171.44742881 178.85642279\n",
            " 170.24802315 170.66334918 169.16749897 170.08244764 164.6846744\n",
            " 178.65934559 179.16295879 175.9330081  174.19860021 168.04036311\n",
            " 168.82060762 173.2576063  169.80333035 173.60201322 174.05327494\n",
            " 170.10180049 176.24939633 174.97130777 170.39049091 162.35539796\n",
            " 170.83318374 172.98991672 180.70983081 172.45079642 178.73906232\n",
            " 178.27934664 168.11970302 169.6101957  180.25733123 174.18071075\n",
            " 171.32737356 173.27034908 176.23049258 176.86313064 172.87558155\n",
            " 170.30741266 176.3768995  171.81109972 161.52741477 178.16942092\n",
            " 175.89245999 169.98859846 170.79907465 179.18025438 171.74329974\n",
            " 167.6778879  172.42651439 172.77351365 173.56680416 172.08282536\n",
            " 178.76998435 166.1080562  170.38189222 173.09238325 178.36884386\n",
            " 186.69517439 165.19513347 168.49413299 169.56698115 180.8722554\n",
            " 175.91968316 185.44476648 168.06090027 166.08832518 174.17707904\n",
            " 179.23149258 173.35761212 174.19043715 174.45719317 182.17512729\n",
            " 166.28582512 170.77123326 171.257365   159.51738901 168.48057873\n",
            " 170.95706584 172.92647803 175.97829135 179.34138586 168.74378633\n",
            " 179.2090216  168.92512367 172.14126464 172.17156124 173.29167827\n",
            " 173.13675797 169.02083704 173.64724651 184.56983845 184.09400763\n",
            " 170.34539814 181.40634475 173.76966964 170.14542141 164.63326948\n",
            " 161.1446933  171.70668191 176.61211997 172.307734   178.82868173\n",
            " 170.37242244 184.07355259 176.65840818 173.54005298 172.74676473\n",
            " 173.02658786 168.17387432 185.05571278 170.41251915 172.557493\n",
            " 170.14547401 176.38922824 178.08315196 177.07784423 180.08237993\n",
            " 171.00196184 169.60679698 180.07760198 178.12619923 174.73625083\n",
            " 168.30702184 167.86849332 171.6128035  174.2106445  172.26788336\n",
            " 165.60221319 171.80449838 171.49075254 175.27776289 168.18160903\n",
            " 167.42894736 180.61444319 174.95337097 170.4238047  165.69323934\n",
            " 175.21939455 169.44794893 177.94728338 168.19481177 177.59413761\n",
            " 171.73233156 163.69082101 171.97909377 172.06113653 169.44707782\n",
            " 179.1999266  160.5353476  166.1584557  170.62160653 166.76375748\n",
            " 172.33262721 177.86507742 172.30728849 170.50845419 165.87421927\n",
            " 175.63476251 175.53660264 172.28752511 175.55444968 169.08984999\n",
            " 170.51096927 170.29944784 179.12887264 166.24606991 176.54854033\n",
            " 173.83332109 171.76135613 180.97087154 173.83276275 174.85900847\n",
            " 170.6815114  171.93987597 177.12747214 170.16516859 164.5059927\n",
            " 172.39598563 172.36651444 177.61649084 176.73985875 168.07477819\n",
            " 178.6433372  183.10848999 181.39393108 168.89561281 181.36367341\n",
            " 169.95284082 174.03828098 173.7242703  179.13762548 179.10509236\n",
            " 173.43725252 171.97588967 166.77966616 167.79742782 173.71395682\n",
            " 173.98013937 178.5991922  167.24717668 166.71028641 171.34986462\n",
            " 170.15368526 174.17246661 175.2054593  172.25011923 174.74460223\n",
            " 182.63694658 179.21893966 171.17861598 171.22394893 170.73358687\n",
            " 166.25938582 173.26503447 174.95626197 169.96827513 168.51964986\n",
            " 174.86326423 169.18424799 174.00353646 173.29842401 167.66192431\n",
            " 170.29388176 181.73708504 172.51538322 173.33065223 175.41154037\n",
            " 173.53670864 167.43996827 169.67256007 171.61423841 170.18106118\n",
            " 179.26435644 165.867506   170.51389297 171.44582081 171.52076822\n",
            " 171.71889467 173.4564074  182.76721308 179.97504199 172.35330581\n",
            " 168.74364915 177.44217007 176.75283077 171.74162283 169.98251552\n",
            " 181.86060047 174.93649898 170.10943464 167.48248768 180.71603323\n",
            " 177.29120501 176.72626805 166.54376154 175.20272477 176.55643421\n",
            " 169.65996845 174.98969534 172.29720857 169.98086302 173.93191126\n",
            " 175.9528673  177.75306174 168.39301025 178.24636465 174.95602055\n",
            " 172.53324749 173.8911129  168.36143889 176.65315825 162.13428865\n",
            " 171.53754854 168.36986858 169.75135086 176.50467169 178.05954308\n",
            " 172.56964342 166.48311959 182.69646859 170.61170407 174.84305804\n",
            " 179.86407685 173.70651592 170.96562299 172.12225702 172.62813004\n",
            " 179.1065031  176.72876551 174.04904395 175.48632331 170.68449975\n",
            " 175.02206784 179.0682582  182.45949123 174.42834208 172.24133108\n",
            " 169.39200948 171.72183808 166.94830852 172.98413533 163.49321471\n",
            " 170.13154249 174.47782568 166.16109272 174.37171862 174.69023402\n",
            " 169.25193444 174.22950484 163.48761699 175.25861987 175.57191542\n",
            " 172.43676712 176.51850943 178.43138856 169.22869569 169.40286464\n",
            " 170.76586844 172.98490009 182.03116754 176.83397431 166.94602039\n",
            " 172.29021858 171.95739018 172.64798215 164.40332439 166.67040025\n",
            " 175.64392081 178.30827096 162.40486782 176.97962455 169.86223751\n",
            " 165.8978271  171.206635   171.82212142 173.74950747 172.68303102\n",
            " 173.93011076 166.77975777 177.02930187 179.85733914 178.87335819\n",
            " 171.81299515 175.09675967 177.59990487 178.53351577 173.28724382\n",
            " 170.16478856 174.02759148 168.92841826 175.94928852 174.98687987\n",
            " 174.24383836 168.65890317 166.32700529 163.33352746 169.57465073\n",
            " 173.67221102 171.38718132 176.08769609 172.90070653 175.40619571\n",
            " 174.43383093 174.53739534 169.44750717 161.55880803 171.68536281\n",
            " 170.00768161 173.35520507 170.53884373 182.45156815 170.64308392\n",
            " 174.19440722 163.32541893 174.74077716 172.498362   167.243054\n",
            " 167.06578573 178.92268538 165.82850181 158.09990117 175.33615649\n",
            " 172.74828893 171.93953649 179.6186448  183.50249594 174.25383008\n",
            " 178.66694485 181.82576103 165.99590292 170.16499093 172.31009589\n",
            " 170.21832255 181.03322665 169.22655286 167.80054282 171.00755705\n",
            " 163.21975824 168.95380571 164.28099031 171.36963244 180.24942683\n",
            " 173.14509009 179.74630531 176.39517045 172.91259948 174.55074398\n",
            " 178.40830043 174.87132325 167.74728925 174.07377302 169.44266951\n",
            " 176.46742867 166.4674058  170.53384053 173.2081     172.5365309\n",
            " 177.52225426 174.02907304 164.28809433 176.51578185 174.60661925\n",
            " 176.01949292 172.25052289 166.82176168 176.2133614  171.74792834\n",
            " 172.36058747 175.99841968 172.0762333  178.51060149 179.09806144\n",
            " 172.57767617 167.39916739 174.1716994  181.17114725 169.5201089\n",
            " 171.90963892 172.55923718 165.3860185  169.58268683 173.31096526\n",
            " 170.23088061 171.30334765 168.39600475 172.27400489 176.45672538\n",
            " 170.63520357 184.86882709 156.92781224 172.92092953 176.82892306\n",
            " 173.3613147  171.67944175 167.07299693 178.39570277 179.84199314\n",
            " 170.12526246 172.06244568 170.91381349 180.87191119 172.3795306\n",
            " 175.25362142 167.65182436 179.10647618 181.76481132 176.33608393\n",
            " 167.25222896 172.82049578 173.31628168 174.69967863 167.00887971\n",
            " 173.12876812 169.9054628  164.77352218 180.54131442 172.9689539\n",
            " 165.71790993 167.57384814 165.8882486  178.58964582 170.98053309\n",
            " 171.13324215 166.00794854 169.83453172 167.31245207 176.55097853\n",
            " 172.84377071 169.92261965 182.53180617 180.89630299 176.69191021\n",
            " 173.39677337 174.09345296 167.29327895 170.12184192 170.71726318\n",
            " 171.29483146 170.28928567 174.33768076 174.61849016 183.06178633]\n"
          ]
        }
      ]
    },
    {
      "cell_type": "code",
      "source": [
        "print(\"평균:\", heights.mean()) #print(\"평균:\", np.mean(heights))\n",
        "print(\"합계:\", heights.sum()) #print(\"평균:\", np.sum(heights))"
      ],
      "metadata": {
        "colab": {
          "base_uri": "https://localhost:8080/"
        },
        "id": "2iisNxk6lC17",
        "outputId": "6c5448f6-22fc-4f13-94c9-1876eac4aa64"
      },
      "execution_count": 101,
      "outputs": [
        {
          "output_type": "stream",
          "name": "stdout",
          "text": [
            "평균: 172.69548420763678\n",
            "합계: 172695.4842076368\n"
          ]
        }
      ]
    },
    {
      "cell_type": "code",
      "source": [
        "h2 = heights.reshape(20,-1)\n",
        "print(\"구조:\", h2.shape)\n",
        "print(h2)"
      ],
      "metadata": {
        "id": "pRyyxdFQldbi"
      },
      "execution_count": null,
      "outputs": []
    },
    {
      "cell_type": "code",
      "source": [
        "print(\"평균(축0):\", h2.mean(axis=0)) #컬럼 별 평균\n",
        "print(\"평균(축1):\", h2.mean(axis=1)) #로우 별 평균"
      ],
      "metadata": {
        "colab": {
          "base_uri": "https://localhost:8080/"
        },
        "id": "kJrWHxjHlr1Z",
        "outputId": "d68e33fd-c8e4-4fb3-8478-6d040e75def8"
      },
      "execution_count": 106,
      "outputs": [
        {
          "output_type": "stream",
          "name": "stdout",
          "text": [
            "평균(축0): [172.86792325 172.79446524 171.65999972 173.39185967 171.50807322\n",
            " 173.61341526 173.58792549 172.20008839 174.37457835 173.20984817\n",
            " 172.40562874 172.19671338 174.42246175 173.64543604 173.45696419\n",
            " 172.14244226 171.48092779 174.32366216 173.26180984 172.56494318\n",
            " 170.78594912 172.04172879 172.30407833 172.2235126  171.72491124\n",
            " 172.90541279 170.41574378 171.39005415 171.19295533 172.92201254\n",
            " 172.30109814 172.24246356 173.3891519  173.49539729 173.18295387\n",
            " 172.80218419 173.04348322 172.76622898 173.06398529 174.71304563\n",
            " 172.83646138 175.29418991 172.86333953 172.49485477 172.28830543\n",
            " 172.22049074 172.82623189 169.64121562 171.44450347 174.84910085]\n",
            "평균(축1): [172.39306008 172.37735016 171.96166537 171.95778466 171.52916922\n",
            " 173.42024293 172.54461863 173.56183658 173.22344325 172.21594147\n",
            " 172.7101196  173.32028407 172.56549792 173.35099464 173.1576501\n",
            " 173.33164645 172.73193548 171.71785119 172.93992737 172.89866498]\n"
          ]
        }
      ]
    },
    {
      "cell_type": "code",
      "source": [
        "print(\"합계(축0):\", h2.sum(axis=0)) #컬럼 별 합계\n",
        "print(\"합계(축1):\", h2.sum(axis=1)) #로우 별 합계"
      ],
      "metadata": {
        "colab": {
          "base_uri": "https://localhost:8080/"
        },
        "id": "edcARczOmQGM",
        "outputId": "9f8497ee-a6bc-4d3f-e92d-e2ef00d58480"
      },
      "execution_count": 108,
      "outputs": [
        {
          "output_type": "stream",
          "name": "stdout",
          "text": [
            "합계(축0): [3457.358465   3455.88930482 3433.19999432 3467.83719347 3430.16146446\n",
            " 3472.26830516 3471.75850982 3444.00176775 3487.49156696 3464.19696341\n",
            " 3448.11257481 3443.9342677  3488.44923498 3472.90872079 3469.13928385\n",
            " 3442.84884511 3429.61855587 3486.47324318 3465.23619673 3451.29886353\n",
            " 3415.71898241 3440.83457584 3446.0815666  3444.47025192 3434.49822486\n",
            " 3458.10825575 3408.31487551 3427.80108301 3423.85910655 3458.44025081\n",
            " 3446.02196282 3444.84927126 3467.7830379  3469.90794573 3463.65907731\n",
            " 3456.04368371 3460.86966432 3455.32457957 3461.27970577 3494.26091262\n",
            " 3456.72922753 3505.8837983  3457.26679051 3449.89709532 3445.76610867\n",
            " 3444.40981489 3456.52463776 3392.82431231 3428.89006944 3496.98201691]\n",
            "합계(축1): [8619.65300391 8618.86750788 8598.08326825 8597.88923314 8576.45846107\n",
            " 8671.01214647 8627.23093132 8678.09182916 8661.17216234 8610.7970737\n",
            " 8635.50598002 8666.01420359 8628.27489623 8667.54973181 8657.88250481\n",
            " 8666.58232234 8636.59677419 8585.89255962 8646.9963686  8644.93324918]\n"
          ]
        }
      ]
    },
    {
      "cell_type": "code",
      "source": [
        "print(\"분산:\", h2.var())\n",
        "print(\"표준편차:\", h2.std())"
      ],
      "metadata": {
        "colab": {
          "base_uri": "https://localhost:8080/"
        },
        "id": "ZFor9sV7m_Yt",
        "outputId": "799035a7-d02d-4245-ac9e-76684eb3c937"
      },
      "execution_count": 107,
      "outputs": [
        {
          "output_type": "stream",
          "name": "stdout",
          "text": [
            "분산: 23.72627961068828\n",
            "표준편차: 4.87096290385056\n"
          ]
        }
      ]
    },
    {
      "cell_type": "code",
      "source": [
        "print(\"최솟값:\", h2.min())\n",
        "print(\"최댓값:\", h2.max())"
      ],
      "metadata": {
        "colab": {
          "base_uri": "https://localhost:8080/"
        },
        "id": "2uFhHwv4nKwa",
        "outputId": "df0879e5-c6d1-4bd3-aa63-b58f04af94b3"
      },
      "execution_count": 109,
      "outputs": [
        {
          "output_type": "stream",
          "name": "stdout",
          "text": [
            "최솟값: 156.92781223520427\n",
            "최댓값: 186.69517438953233\n"
          ]
        }
      ]
    },
    {
      "cell_type": "code",
      "source": [
        "print(\"최솟값이 있는 위치:\", h2.argmin())\n",
        "print(\"최댓값이 있는 위치:\", h2.argmax())\n",
        "print(heights[heights.argmin()], heights[heights.argmax()])"
      ],
      "metadata": {
        "colab": {
          "base_uri": "https://localhost:8080/"
        },
        "id": "xr5ivg0KnqLI",
        "outputId": "9380a26f-21e6-46fa-d700-fce8382ae3b9"
      },
      "execution_count": 111,
      "outputs": [
        {
          "output_type": "stream",
          "name": "stdout",
          "text": [
            "최솟값이 있는 위치: 947\n",
            "최댓값이 있는 위치: 555\n",
            "156.92781223520427 186.69517438953233\n"
          ]
        }
      ]
    },
    {
      "cell_type": "code",
      "source": [
        "arr = np.array([1,2,4,2,7])\n",
        "print(\"누적 합계:\", arr.cumsum())\n",
        "print(\"누적 곱:\", arr.cumprod())"
      ],
      "metadata": {
        "colab": {
          "base_uri": "https://localhost:8080/"
        },
        "id": "ym8jSIlqoIal",
        "outputId": "8687c353-e5b2-481a-f673-af62073aa67c"
      },
      "execution_count": 113,
      "outputs": [
        {
          "output_type": "stream",
          "name": "stdout",
          "text": [
            "누적 합계: [ 1  3  7  9 16]\n",
            "누적 곱: [  1   2   8  16 112]\n"
          ]
        }
      ]
    },
    {
      "cell_type": "code",
      "source": [
        "arr.sort()\n",
        "print(arr)"
      ],
      "metadata": {
        "colab": {
          "base_uri": "https://localhost:8080/"
        },
        "id": "94u6ITQCpIBC",
        "outputId": "d75a5d34-9eab-412a-95ca-54eb640c43a1"
      },
      "execution_count": 114,
      "outputs": [
        {
          "output_type": "stream",
          "name": "stdout",
          "text": [
            "[1 2 2 4 7]\n"
          ]
        }
      ]
    },
    {
      "cell_type": "code",
      "source": [
        "ua = np.unique(arr) #도수 조사 // 이 배열에 어떠한 요소들이 있는지 -> 중복제외\n",
        "print(ua)"
      ],
      "metadata": {
        "colab": {
          "base_uri": "https://localhost:8080/"
        },
        "id": "lIED04SipRRj",
        "outputId": "1700ecae-ca1d-48a4-900d-d11935ecb4a1"
      },
      "execution_count": 115,
      "outputs": [
        {
          "output_type": "stream",
          "name": "stdout",
          "text": [
            "[1 2 4 7]\n"
          ]
        }
      ]
    },
    {
      "cell_type": "code",
      "source": [
        "x = np.array([[1,2,3],[4,5,6]])\n",
        "y = np.array([[2,3],[1,2],[4,5]])\n",
        "re = x.dot(y)\n",
        "print(x)\n",
        "print(\"============\")\n",
        "print(y)\n",
        "print(\"============\")\n",
        "print(re)"
      ],
      "metadata": {
        "colab": {
          "base_uri": "https://localhost:8080/"
        },
        "id": "n3Mk7l30vdp-",
        "outputId": "fa2fdbd1-6f96-427d-89c9-7cd0f6ff7ee6"
      },
      "execution_count": 118,
      "outputs": [
        {
          "output_type": "stream",
          "name": "stdout",
          "text": [
            "[[1 2 3]\n",
            " [4 5 6]]\n",
            "============\n",
            "[[2 3]\n",
            " [1 2]\n",
            " [4 5]]\n",
            "============\n",
            "[[16 22]\n",
            " [37 52]]\n"
          ]
        }
      ]
    },
    {
      "cell_type": "markdown",
      "source": [
        "# 난수\n"
      ],
      "metadata": {
        "id": "QGa9iXabw9sK"
      }
    },
    {
      "cell_type": "code",
      "source": [
        "for _ in range(10): # _ 변수 이름을 주지 않겠다.\n",
        "  print(np.random.uniform(-2,3)) # -2 ~ 3사이에 랜덤한 실수 반환"
      ],
      "metadata": {
        "colab": {
          "base_uri": "https://localhost:8080/"
        },
        "id": "fshXu8Iowolu",
        "outputId": "8062d374-220a-42ab-e21b-1973d7f870de"
      },
      "execution_count": 120,
      "outputs": [
        {
          "output_type": "stream",
          "name": "stdout",
          "text": [
            "2.0540317130891204\n",
            "-1.0041756915850868\n",
            "-0.1606603149711905\n",
            "1.6997953424481311\n",
            "0.08062328912296435\n",
            "1.0408658397021675\n",
            "2.6408137707344705\n",
            "1.1910808943873796\n",
            "1.1429830544515394\n",
            "1.054034007297421\n"
          ]
        }
      ]
    },
    {
      "cell_type": "code",
      "source": [
        "for _ in range(20):\n",
        "  print(np.random.randint(1,7), end=' ') # 1에서 5사이의 랜덤한 정수 반환\n",
        "print()"
      ],
      "metadata": {
        "colab": {
          "base_uri": "https://localhost:8080/"
        },
        "id": "Z-flcLtgxmGa",
        "outputId": "3f542a98-799b-487b-c3a7-4e7ea66cbe74"
      },
      "execution_count": 125,
      "outputs": [
        {
          "output_type": "stream",
          "name": "stdout",
          "text": [
            "4 5 1 3 5 4 1 4 4 1 2 2 2 6 1 5 1 2 6 2 \n"
          ]
        }
      ]
    },
    {
      "cell_type": "code",
      "source": [
        "volan = [1,7,2,8,9]\n",
        "for _ in range(20):\n",
        "  print(np.random.choice(volan), end=' ') # 저 숫자중에 랜덤하게 아무거나 골라라\n",
        "print()"
      ],
      "metadata": {
        "colab": {
          "base_uri": "https://localhost:8080/"
        },
        "id": "QZ_o4qbSyry8",
        "outputId": "6ab70fcf-c73d-4c8f-8b5a-7645d4b512c5"
      },
      "execution_count": 134,
      "outputs": [
        {
          "output_type": "stream",
          "name": "stdout",
          "text": [
            "2 1 7 9 7 8 9 9 2 1 8 7 9 2 1 9 7 7 2 9 \n"
          ]
        }
      ]
    },
    {
      "cell_type": "code",
      "source": [
        "np.random.seed(100)"
      ],
      "metadata": {
        "id": "3u-bbWHDzFxr"
      },
      "execution_count": 135,
      "outputs": []
    },
    {
      "cell_type": "code",
      "source": [],
      "metadata": {
        "id": "GncMJkAazoYw"
      },
      "execution_count": null,
      "outputs": []
    }
  ],
  "metadata": {
    "colab": {
      "collapsed_sections": [],
      "name": "Colaboratory에 오신 것을 환영합니다",
      "provenance": [],
      "include_colab_link": true
    },
    "kernelspec": {
      "display_name": "Python 3",
      "name": "python3"
    }
  },
  "nbformat": 4,
  "nbformat_minor": 0
}