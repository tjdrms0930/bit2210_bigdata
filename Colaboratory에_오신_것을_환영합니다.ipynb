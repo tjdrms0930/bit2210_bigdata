{
  "cells": [
    {
      "cell_type": "markdown",
      "metadata": {
        "id": "view-in-github",
        "colab_type": "text"
      },
      "source": [
        "<a href=\"https://colab.research.google.com/github/tjdrms0930/bit2210_bigdata/blob/main/Colaboratory%EC%97%90_%EC%98%A4%EC%8B%A0_%EA%B2%83%EC%9D%84_%ED%99%98%EC%98%81%ED%95%A9%EB%8B%88%EB%8B%A4.ipynb\" target=\"_parent\"><img src=\"https://colab.research.google.com/assets/colab-badge.svg\" alt=\"Open In Colab\"/></a>"
      ]
    },
    {
      "cell_type": "markdown",
      "source": [
        "평균, 중간값, 사분위값, 최빈값, 분산, 표준편차, 공분산, 상관계수"
      ],
      "metadata": {
        "id": "i_ClNIIV61MX"
      }
    },
    {
      "cell_type": "code",
      "source": [
        "import numpy as np"
      ],
      "metadata": {
        "id": "oU4pMZ2g66gJ"
      },
      "execution_count": 68,
      "outputs": []
    },
    {
      "cell_type": "code",
      "source": [
        "heights = np.random.normal(161.4,4,200) # 평균 161.4, 표준편차 4, 표본 200개 생성\n",
        "print(heights)\n",
        "bmis = np.random.normal(21, 2, 200) #평균 21, 표준편차 2, 표본 200개 생성\n",
        "weights = bmis *(heights**2)/10000 #키와 bmi지수를 이용하여 몸무게 200개 생성\n",
        "print(weights)"
      ],
      "metadata": {
        "id": "ygS0e-un7FFt",
        "outputId": "0a23c311-bcf8-49f2-cd92-cbe98cad3613",
        "colab": {
          "base_uri": "https://localhost:8080/"
        }
      },
      "execution_count": 139,
      "outputs": [
        {
          "output_type": "stream",
          "name": "stdout",
          "text": [
            "[160.67191666 157.38647713 157.65231156 157.6229176  158.489915\n",
            " 169.66194455 161.94424517 162.20725546 166.48301962 157.38610186\n",
            " 158.47064876 158.80803155 158.25791425 168.33892473 159.61538456\n",
            " 156.44031869 160.23285421 158.75944292 157.03280934 163.65942765\n",
            " 153.62183887 162.45572489 167.55501464 170.98829227 167.62483348\n",
            " 160.58926871 160.96437495 165.94080667 165.43917417 157.74631722\n",
            " 152.48296427 159.54907875 167.91283054 161.09640093 155.82186914\n",
            " 158.28000679 164.19452308 163.29165386 160.31019276 162.13917102\n",
            " 160.04406587 160.83075077 155.60381629 156.109134   158.55639031\n",
            " 158.97526356 157.11103091 163.58181612 163.55668978 166.19529575\n",
            " 161.09263864 158.6264486  157.61209579 152.32552015 162.2543604\n",
            " 156.33976922 165.25478746 163.47337406 163.76010451 165.92472476\n",
            " 160.96370415 161.16733553 158.02993603 158.38821758 159.46973874\n",
            " 163.49819138 160.34166528 162.81202073 162.29529648 159.91120404\n",
            " 171.98967596 161.93316097 164.64039147 153.1341851  160.08636768\n",
            " 162.54179598 165.05091303 157.85841921 164.05157286 155.20769036\n",
            " 159.1765023  160.56240488 168.75948374 161.35185693 167.57699825\n",
            " 152.65938479 157.77898544 162.25226368 157.53713735 165.43795909\n",
            " 157.35115512 165.02021145 157.74804271 159.59852671 165.56286998\n",
            " 158.37789964 163.09767299 161.66577721 161.04801838 169.21772036\n",
            " 163.67177353 160.9934481  161.67700385 156.75359221 162.70810463\n",
            " 163.66933368 165.00636903 168.90857148 163.1224531  156.63686298\n",
            " 162.30484852 159.12273372 158.47095716 158.55303366 161.62748864\n",
            " 158.10600451 162.62654341 154.06450506 149.83103838 160.76563472\n",
            " 155.27359271 159.08821493 153.77637785 153.36422953 162.35558393\n",
            " 159.36618846 161.20695318 161.2598918  158.49077238 167.47344828\n",
            " 162.84410167 171.70791072 167.74928497 164.15071046 161.32715061\n",
            " 159.04167173 158.47933488 161.93753125 165.28621425 157.16648223\n",
            " 161.28557789 156.39088994 161.82639049 163.56902933 165.3648754\n",
            " 162.54885194 158.85612073 159.88598879 161.46529147 160.56164819\n",
            " 162.68577709 162.33407748 165.45980915 155.93862703 162.50612422\n",
            " 157.57913646 160.35794952 156.09003607 161.54923062 155.5894373\n",
            " 158.08959305 170.56877458 163.91155071 165.21082097 158.08148905\n",
            " 166.04186548 160.15389958 159.24243591 163.56173102 161.96278023\n",
            " 166.35304965 156.25770456 158.27826328 159.53531149 161.78776137\n",
            " 159.56707841 161.08253474 160.12685875 165.07817458 159.15529063\n",
            " 159.75955196 161.67250283 161.00432352 162.35703944 156.33001602\n",
            " 161.76628498 160.72258793 157.85720842 154.81756814 162.07919008\n",
            " 160.84856521 161.11402353 159.85512038 166.77980109 157.07496572\n",
            " 161.14768481 159.38575806 153.19637695 161.74903192 156.08221753]\n",
            "[58.11772027 56.10166834 54.08122655 54.77933238 50.47566576 64.4073642\n",
            " 59.88298079 61.14572027 65.20908353 44.80414936 54.35088003 40.66962263\n",
            " 57.47143097 55.86846131 54.99395228 49.12344807 55.90243569 56.31957299\n",
            " 46.40399538 53.42416239 48.12254439 59.49157819 57.63310741 60.35812406\n",
            " 71.86723178 41.11295619 57.35205856 58.23141154 61.57359734 56.80823625\n",
            " 54.65035506 48.95309384 65.8381049  56.98912586 48.12401976 56.93028496\n",
            " 48.67514645 59.47340611 53.18898466 62.26963328 50.4111978  52.20349127\n",
            " 49.20677084 49.24400524 45.46219311 53.01845354 48.05174121 60.7010627\n",
            " 60.41333959 50.7250338  54.56502674 53.61206093 48.26024488 55.0752812\n",
            " 55.30671018 53.54386496 55.12963314 59.77586191 71.78457599 54.57644329\n",
            " 56.30210747 56.22585914 55.35319743 52.63990339 44.63755771 50.65362068\n",
            " 56.74038302 46.91859118 58.83748559 55.13400325 64.50145507 58.18839598\n",
            " 56.68017439 52.27185013 48.03923015 56.66798123 57.78373957 47.3399208\n",
            " 55.51499068 60.21369851 56.10942593 47.08142132 53.21318445 60.22191955\n",
            " 49.67716503 55.82515916 47.6332704  55.97086076 51.96368052 56.99643259\n",
            " 55.05377968 72.90327562 61.01576872 59.05015688 45.42857219 52.55516953\n",
            " 62.44418622 52.50063833 65.48825148 61.51145103 55.94154795 49.89904808\n",
            " 54.25094228 56.08142246 55.02624792 52.35661972 65.86651362 65.54932698\n",
            " 53.28114005 54.61365024 52.93124479 56.25657895 48.45687983 52.51777008\n",
            " 60.55829739 43.26398009 53.35796466 47.87304093 41.29889886 48.40310804\n",
            " 41.9625977  49.80034938 61.7157469  41.68941412 55.3879107  56.08656055\n",
            " 53.88753693 52.64019192 62.50000931 53.05508309 54.17353636 58.38389405\n",
            " 56.94182939 51.2719166  47.55304788 48.95179941 44.2971279  50.26455736\n",
            " 60.34135071 59.40595525 60.85707154 45.38199804 44.3947643  56.47254716\n",
            " 54.49260811 56.05265825 56.09876683 58.31074516 63.36611012 49.79250449\n",
            " 55.2443649  57.91748329 61.34919775 45.85314858 57.64263243 50.43200969\n",
            " 60.37902602 51.66859963 43.6264486  47.52698279 46.58169451 67.96873055\n",
            " 50.69235199 53.26246174 48.0506787  55.1628598  56.56889226 51.7217505\n",
            " 58.08299472 62.05497553 59.43166981 52.11382467 58.20467567 53.37850237\n",
            " 61.68419178 47.71528425 58.42732182 48.21150613 55.57581207 60.79100276\n",
            " 54.3445429  64.84009512 52.84950315 52.9459664  39.64695203 50.44312577\n",
            " 51.48580995 46.03714478 45.42890268 57.99535832 63.21370949 55.44115995\n",
            " 51.33235298 60.22997303 55.17750603 50.70110706 60.08686681 53.63636604\n",
            " 56.0567894  57.63156259]\n"
          ]
        }
      ]
    },
    {
      "cell_type": "code",
      "source": [
        "print(\"=====키=====\")\n",
        "print(\"평균 :\", heights.mean())\n",
        "print(\"중간값 :\", np.median(heights))\n",
        "print(\"1/4분위값:\", np.quantile(heights, 0.25))\n",
        "print(\"2/4분위값:\", np.quantile(heights, 0.5))\n",
        "print(\"3/4분위값:\", np.quantile(heights, 0.75))\n",
        "hist,bins = np.histogram(heights,bins=[x/2 for x in range(145*2, 180*2, 5)])\n",
        "print(hist)\n",
        "print(bins)\n",
        "artart = hist.argmax()\n",
        "aend = artart + 1\n",
        "print(f\"최빈 구간: {bins[artart]} ~ {bins[aend]}, 개수 :{hist.max()}\")\n"
      ],
      "metadata": {
        "id": "4p1MIrak8SCb",
        "outputId": "6b951ac7-85a4-462a-c029-81161753c58b",
        "colab": {
          "base_uri": "https://localhost:8080/"
        }
      },
      "execution_count": 154,
      "outputs": [
        {
          "output_type": "stream",
          "name": "stdout",
          "text": [
            "=====키=====\n",
            "평균 : 160.90482115341825\n",
            "중간값 : 160.96403955158854\n",
            "1/4분위값: 158.27957091234828\n",
            "2/4분위값: 160.96403955158854\n",
            "3/4분위값: 163.1647532900506\n",
            "[ 0  1  2  8 23 49 57 26 20 10  4  0  0]\n",
            "[145.  147.5 150.  152.5 155.  157.5 160.  162.5 165.  167.5 170.  172.5\n",
            " 175.  177.5]\n",
            "최빈 구간: 160.0 ~ 162.5, 개수 :57\n"
          ]
        }
      ]
    },
    {
      "cell_type": "code",
      "source": [
        "print(\"{0:02d} {1} {2}\".format(12,34,55))\n",
        "a=12\n",
        "b=34\n",
        "c=55\n",
        "print(f\"{a:05x} {b} {c}\")"
      ],
      "metadata": {
        "id": "a5yDEJgY_YEE",
        "outputId": "9e75431b-3b20-4335-88c2-c6e29f430a76",
        "colab": {
          "base_uri": "https://localhost:8080/"
        }
      },
      "execution_count": 153,
      "outputs": [
        {
          "output_type": "stream",
          "name": "stdout",
          "text": [
            "12 34 55\n",
            "0000c 34 55\n"
          ]
        }
      ]
    },
    {
      "cell_type": "code",
      "source": [
        "cv = np.cov(heights, weights)\n",
        "print(\"공분산(키,     키    ):\", cv[0,0])\n",
        "print(\"공분산(키,     몸무게):\", cv[0,1])\n",
        "print(\"공분산(몸무게,     키):\", cv[1,0])\n",
        "print(\"공분산(몸무게, 몸무게):\", cv[1,1])"
      ],
      "metadata": {
        "id": "kifOHKzaBzf5",
        "outputId": "de07daf6-0253-440c-fd64-7015b82a48c0",
        "colab": {
          "base_uri": "https://localhost:8080/"
        }
      },
      "execution_count": 155,
      "outputs": [
        {
          "output_type": "stream",
          "name": "stdout",
          "text": [
            "공분산(키,     키    ): 15.634655886180754\n",
            "공분산(키,     몸무게): 11.277908488102566\n",
            "공분산(몸무게,     키): 11.277908488102566\n",
            "공분산(몸무게, 몸무게): 36.69830686483495\n"
          ]
        }
      ]
    },
    {
      "cell_type": "code",
      "source": [
        "std_h = heights.std()\n",
        "std_w = weights.std()\n",
        "print(\"상관계수(키, 몸무게):\", np.cov(heights, weights)[0,1]/(std_h*std_w))"
      ],
      "metadata": {
        "id": "d-ispkhVC9Se",
        "outputId": "074d6768-349c-47fa-eefa-332a31157c54",
        "colab": {
          "base_uri": "https://localhost:8080/"
        }
      },
      "execution_count": 156,
      "outputs": [
        {
          "output_type": "stream",
          "name": "stdout",
          "text": [
            "상관계수(키, 몸무게): 0.4731929963898677\n"
          ]
        }
      ]
    },
    {
      "cell_type": "code",
      "source": [
        "def correl(x,y):\n",
        "  std_x = x.std()\n",
        "  std_y = y.std()\n",
        "  if std_x>0 and std_y>0:\n",
        "    return np.cov(x,y)[0,1]/(std_x*std_y)"
      ],
      "metadata": {
        "id": "uKplFzbmDSwA"
      },
      "execution_count": 157,
      "outputs": []
    },
    {
      "cell_type": "code",
      "source": [
        "print(\"상관계수(키, 몸무게):\", correl(heights, weights))"
      ],
      "metadata": {
        "id": "xdawAQPdDh6t",
        "outputId": "aaaac046-0985-46f6-edd2-f67373610ff7",
        "colab": {
          "base_uri": "https://localhost:8080/"
        }
      },
      "execution_count": 158,
      "outputs": [
        {
          "output_type": "stream",
          "name": "stdout",
          "text": [
            "상관계수(키, 몸무게): 0.4731929963898677\n"
          ]
        }
      ]
    },
    {
      "cell_type": "markdown",
      "source": [
        "#**확률과 통계**\n",
        "독립사건, 정규 분포, 중심극한정리"
      ],
      "metadata": {
        "id": "78eq1e_wIK0A"
      }
    },
    {
      "cell_type": "code",
      "source": [
        "#P(A) : 사건 A가 발생할 확률\n",
        "#P(B) : 사건 B가 발생할 확률\n",
        "#P(A|B) : 사건 B가 발생한 상태에서 사건 A가 발생할 확률\n",
        "#P(A abd B) : 사건 A와 사건 B가 모두 발생할 확률\n",
        "#만약 사건 A와 사건 B가 서로 영향을 주지 않으면 독립 사건이라 한다.\n",
        "#P(A|B) = P(A) 일 때 사건 A와 사건 B는 독립 사건이다.\n",
        "#A와 B가 독립사건일 때 P(A and B) = P(A)*P(B) 공식이 성립한다."
      ],
      "metadata": {
        "id": "Ufl0F_1AIO2C"
      },
      "execution_count": null,
      "outputs": []
    },
    {
      "cell_type": "code",
      "source": [
        "import math"
      ],
      "metadata": {
        "id": "MPgyy4ZzKKaO"
      },
      "execution_count": 1,
      "outputs": []
    },
    {
      "cell_type": "code",
      "source": [
        "pa = 1/2 #동전을 던져서 앞면이 나올 확률\n",
        "pb = 1/6 #주사위를 던져서 1면이 나올 확률\n",
        "pab = pa*pb\n",
        "print(pab)\n",
        "logit_pab = math.log(pa) + math.log(pb)\n",
        "inv_logit_pab = math.exp(logit_pab)\n",
        "print(inv_logit_pab)"
      ],
      "metadata": {
        "id": "NoII0xLzKNrF",
        "outputId": "357fb838-bd9b-4dea-8095-c37c0cee1151",
        "colab": {
          "base_uri": "https://localhost:8080/"
        }
      },
      "execution_count": 3,
      "outputs": [
        {
          "output_type": "stream",
          "name": "stdout",
          "text": [
            "0.08333333333333333\n",
            "0.08333333333333333\n"
          ]
        }
      ]
    },
    {
      "cell_type": "markdown",
      "source": [
        "https://wikimedia.org/api/rest_v1/media/math/render/svg/9ed7dc1a20c9a4d553eafeca9a327bcef3fa22c4"
      ],
      "metadata": {
        "id": "_NkYfTjdMPp-"
      }
    },
    {
      "cell_type": "code",
      "source": [
        "#균등분포 : 사건이 발생할 확률이 모두 같게 분포\n",
        "def uniform_pdf(x,min_y=0,max_v=1):\n",
        "  if(min_y<=x<=max_v):\n",
        "    return 1/(max_v-min_y+1)\n",
        "  return 0"
      ],
      "metadata": {
        "id": "Me4mBNH7MQ9-"
      },
      "execution_count": 16,
      "outputs": []
    },
    {
      "cell_type": "code",
      "source": [
        "print(uniform_pdf(1,1,6)) #1에서 6사이로 구성한 균등 분포에서 1이 나올 확률\n",
        "print(uniform_pdf(2,1,6)) #1에서 6사이로 구성한 균등 분포에서 2이 나올 확률\n",
        "print(uniform_pdf(3,1,6)) #1에서 6사이로 구성한 균등 분포에서 3이 나올 확률\n",
        "print(uniform_pdf(4,1,6)) #1에서 6사이로 구성한 균등 분포에서 4이 나올 확률\n",
        "print(uniform_pdf(5,1,6)) #1에서 6사이로 구성한 균등 분포에서 5이 나올 확률\n",
        "print(uniform_pdf(6,1,6)) #1에서 6사이로 구성한 균등 분포에서 6이 나올 확률"
      ],
      "metadata": {
        "id": "3wlP83anM0_f",
        "outputId": "5967922e-24fb-453b-869d-5fbc8d11f1a6",
        "colab": {
          "base_uri": "https://localhost:8080/"
        }
      },
      "execution_count": 17,
      "outputs": [
        {
          "output_type": "stream",
          "name": "stdout",
          "text": [
            "0.16666666666666666\n",
            "0.16666666666666666\n",
            "0.16666666666666666\n",
            "0.16666666666666666\n",
            "0.16666666666666666\n",
            "0.16666666666666666\n"
          ]
        }
      ]
    },
    {
      "cell_type": "code",
      "source": [
        "# 누적균등분포 : 균등분포에서 누적값\n",
        "def uniform_cdf(x, min_v = 0, max_v = 1):\n",
        "  if x<min_v:\n",
        "    return 0 \n",
        "  if min_v<=x<=max_v:\n",
        "    return (x-min_v+1)/(max_v-min_v+1)\n",
        "  return 1"
      ],
      "metadata": {
        "id": "rXDp14GbNVqE"
      },
      "execution_count": 30,
      "outputs": []
    },
    {
      "cell_type": "code",
      "source": [
        "print(uniform_cdf(2,1,6)) #1에서 6사이로 구성한 균등 분포에서 2이 나올 확률\n",
        "print(uniform_cdf(3,1,6)) #1에서 6사이로 구성한 균등 분포에서 3이 나올 확률\n",
        "print(uniform_cdf(4,1,6)) #1에서 6사이로 구성한 균등 분포에서 4이 나올 확률\n",
        "print(uniform_cdf(5,1,6)) #1에서 6사이로 구성한 균등 분포에서 5이 나올 확률\n",
        "print(uniform_cdf(6,1,6)) #1에서 6사이로 구성한 균등 분포에서 6이 나올 확률"
      ],
      "metadata": {
        "id": "m9f4e41mNvfo",
        "outputId": "7d054d26-eaf9-4418-933c-dd6626f51b40",
        "colab": {
          "base_uri": "https://localhost:8080/"
        }
      },
      "execution_count": 31,
      "outputs": [
        {
          "output_type": "stream",
          "name": "stdout",
          "text": [
            "0.3333333333333333\n",
            "0.5\n",
            "0.6666666666666666\n",
            "0.8333333333333334\n",
            "1.0\n"
          ]
        }
      ]
    },
    {
      "cell_type": "code",
      "source": [
        "import matplotlib.pyplot as plt"
      ],
      "metadata": {
        "id": "UPrhp5uTOPbH"
      },
      "execution_count": 32,
      "outputs": []
    },
    {
      "cell_type": "code",
      "source": [
        "xs = [x for x in range(-10,10)]\n",
        "pys = [uniform_pdf(x, 1, 6) for x in xs]\n",
        "cys = [uniform_cdf(x, 1, 6) for x in xs]\n",
        "print(xs)\n",
        "print(pys)\n",
        "print(cys)"
      ],
      "metadata": {
        "id": "BB_9seCiOUhf",
        "outputId": "dff45b91-6129-4a91-d22b-93b9280068c4",
        "colab": {
          "base_uri": "https://localhost:8080/"
        }
      },
      "execution_count": 33,
      "outputs": [
        {
          "output_type": "stream",
          "name": "stdout",
          "text": [
            "[-10, -9, -8, -7, -6, -5, -4, -3, -2, -1, 0, 1, 2, 3, 4, 5, 6, 7, 8, 9]\n",
            "[0, 0, 0, 0, 0, 0, 0, 0, 0, 0, 0, 0.16666666666666666, 0.16666666666666666, 0.16666666666666666, 0.16666666666666666, 0.16666666666666666, 0.16666666666666666, 0, 0, 0]\n",
            "[0, 0, 0, 0, 0, 0, 0, 0, 0, 0, 0, 0.16666666666666666, 0.3333333333333333, 0.5, 0.6666666666666666, 0.8333333333333334, 1.0, 1, 1, 1]\n"
          ]
        }
      ]
    },
    {
      "cell_type": "code",
      "source": [
        "fig,ax = plt.subplots(1,2) #1 X 2 도면을 만들어 주세요.\n",
        "ax[0].plot(xs,pys,\"b.\",label=\"pdf\")\n",
        "ax[1].plot(xs,cys,\"r\",label=\"cdf\")\n",
        "plt.show()"
      ],
      "metadata": {
        "id": "F8JHXDFOPVv3",
        "outputId": "40ee3e6b-255d-4480-b32b-e4e060325739",
        "colab": {
          "base_uri": "https://localhost:8080/",
          "height": 269
        }
      },
      "execution_count": 34,
      "outputs": [
        {
          "output_type": "display_data",
          "data": {
            "text/plain": [
              "<Figure size 432x288 with 2 Axes>"
            ],
            "image/png": "[encoded data removed]"
          },
          "metadata": {
            "needs_background": "light"
          }
        }
      ]
    },
    {
      "cell_type": "code",
      "source": [
        "#정규분포함수\n",
        "def normal_pdf(x,mu=0, sigma=1):\n",
        "  pre = 1/(sigma*math.sqrt(2*math.pi))\n",
        "  post = math.exp(-((x-mu)**2)/(2*(sigma**2)))\n",
        "  return pre*post"
      ],
      "metadata": {
        "id": "CVbp4rSwQxSd"
      },
      "execution_count": 37,
      "outputs": []
    },
    {
      "cell_type": "code",
      "source": [
        "xs = [x/10.0 for x in range(-50,51)]\n",
        "ys1=[normal_pdf(x) for x in xs]\n",
        "ys2=[normal_pdf(x, sigma=0.2) for x in xs]\n",
        "ys3=[normal_pdf(x, sigma=2.0) for x in xs]\n",
        "ys4=[normal_pdf(x, mu=-2, sigma=0.5) for x in xs]\n",
        "ys5=[normal_pdf(x, mu=-2, sigma=1.0) for x in xs]\n",
        "plt.figure(figsize=(10,4))\n",
        "plt.plot(xs,ys1, '-', label='mu=0, sigma=1')\n",
        "plt.plot(xs,ys2, '--', label='mu=0, sigma=0.2')\n",
        "plt.plot(xs,ys3, ':', label='mu=0, sigma=2.0')\n",
        "plt.plot(xs,ys4, '-.', label='mu=-2, sigma=0.5')\n",
        "plt.plot(xs,ys5, '-.', label='mu=-2, sigma=1.0')\n",
        "plt.legend()\n",
        "plt.show()"
      ],
      "metadata": {
        "id": "yoK7tHOxVQbF",
        "outputId": "424a5f00-86c3-43a4-97d3-6159ac9ee17f",
        "colab": {
          "base_uri": "https://localhost:8080/",
          "height": 265
        }
      },
      "execution_count": 46,
      "outputs": [
        {
          "output_type": "display_data",
          "data": {
            "text/plain": [
              "<Figure size 720x288 with 1 Axes>"
            ],
            "image/png": "[encoded data removed]"
          },
          "metadata": {
            "needs_background": "light"
          }
        }
      ]
    },
    {
      "cell_type": "code",
      "source": [
        "import scipy.stats as st\n",
        "xs = [x/10.0 for x in range(-50,51)]\n",
        "ys1 = [st.norm.pdf(x) for x in xs]\n",
        "ys2=[st.norm.pdf(x, scale=0.2) for x in xs]\n",
        "ys3=[st.norm.pdf(x, scale=2.0) for x in xs]\n",
        "ys4=[st.norm.pdf(x, loc=-2, scale=0.5) for x in xs]\n",
        "ys5=[st.norm.pdf(x, loc=-2, scale=1.0) for x in xs]\n",
        "plt.figure(figsize=(10,4))\n",
        "plt.plot(xs,ys1, '-', label='mu=0, sigma=1')\n",
        "plt.plot(xs,ys2, '--', label='mu=0, sigma=0.2')\n",
        "plt.plot(xs,ys3, ':', label='mu=0, sigma=2.0')\n",
        "plt.plot(xs,ys4, '-.', label='mu=-2, sigma=0.5')\n",
        "plt.plot(xs,ys5, '-.', label='mu=-2, sigma=1.0')\n",
        "plt.legend()\n",
        "plt.show()"
      ],
      "metadata": {
        "id": "XXk7rtNsW_ha",
        "outputId": "7175f1ef-bfc6-4219-c57a-d1f9bc786c59",
        "colab": {
          "base_uri": "https://localhost:8080/",
          "height": 265
        }
      },
      "execution_count": 47,
      "outputs": [
        {
          "output_type": "display_data",
          "data": {
            "text/plain": [
              "<Figure size 720x288 with 1 Axes>"
            ],
            "image/png": "[encoded data removed]"
          },
          "metadata": {
            "needs_background": "light"
          }
        }
      ]
    },
    {
      "cell_type": "code",
      "source": [
        "def normal_cdf(x, mu=0, sigma=1): # 정규누적분포\n",
        "  return ( 1+(math.erf( (x-mu) / (math.sqrt(2) * sigma) )))/2"
      ],
      "metadata": {
        "id": "LljwgS2aZ0Po"
      },
      "execution_count": 48,
      "outputs": []
    },
    {
      "cell_type": "code",
      "source": [
        "xs = [x/10.0 for x in range(-50,51)]\n",
        "ys1=[normal_cdf(x) for x in xs]\n",
        "ys2=[normal_cdf(x, sigma=0.2) for x in xs]\n",
        "ys3=[normal_cdf(x, sigma=2.0) for x in xs]\n",
        "ys4=[normal_cdf(x, mu=-2, sigma=0.5) for x in xs]\n",
        "plt.figure(figsize=(6,5))\n",
        "plt.plot(xs,ys1, '-', label='mu=0, sigma=1')\n",
        "plt.plot(xs,ys2, '--', label='mu=0, sigma=0.2')\n",
        "plt.plot(xs,ys3, ':', label='mu=0, sigma=2.0')\n",
        "plt.plot(xs,ys4, '-.', label='mu=-2, sigma=0.5')\n",
        "plt.legend()\n",
        "plt.show()"
      ],
      "metadata": {
        "id": "47j5Ikj6akug",
        "outputId": "58aa8938-5d2e-4eb3-fda5-0f96b82b8c35",
        "colab": {
          "base_uri": "https://localhost:8080/",
          "height": 320
        }
      },
      "execution_count": 51,
      "outputs": [
        {
          "output_type": "display_data",
          "data": {
            "text/plain": [
              "<Figure size 432x360 with 1 Axes>"
            ],
            "image/png": "[encoded data removed]"
          },
          "metadata": {
            "needs_background": "light"
          }
        }
      ]
    },
    {
      "cell_type": "code",
      "source": [
        "def ber_trial(p):\n",
        "  return 1 if np.random.random()<p else 0\n",
        "  # 베르누이"
      ],
      "metadata": {
        "id": "-xYD6i_QbOi5"
      },
      "execution_count": 65,
      "outputs": []
    },
    {
      "cell_type": "code",
      "source": [
        "cnt =0\n",
        "for _ in range(120):\n",
        "  re = ber_trial(1/6)\n",
        "  print(re,end=' ')\n",
        "  if re ==1:\n",
        "    cnt+=1\n",
        "print()\n",
        "print(cnt)"
      ],
      "metadata": {
        "id": "BCqlsC0bbtz9",
        "outputId": "eab9fbb4-7ce4-43e4-bb2d-893272028a83",
        "colab": {
          "base_uri": "https://localhost:8080/"
        }
      },
      "execution_count": 70,
      "outputs": [
        {
          "output_type": "stream",
          "name": "stdout",
          "text": [
            "0 0 0 0 0 0 0 0 0 0 0 1 0 0 0 0 0 0 1 0 0 0 0 1 0 0 1 0 0 0 0 0 0 0 0 1 0 0 0 1 1 1 0 0 0 0 0 0 0 1 1 0 1 0 0 0 0 0 1 0 1 0 1 0 0 0 0 1 0 1 0 0 0 1 0 1 0 0 0 0 0 0 1 1 0 0 0 1 0 1 0 0 1 0 0 1 0 1 0 0 0 0 0 0 0 0 0 0 0 0 0 0 0 1 0 1 0 0 0 1 \n",
            "28\n"
          ]
        }
      ]
    },
    {
      "cell_type": "code",
      "source": [
        "def ber(n,p):\n",
        "  return sum(ber_trial(p) for _ in range(n))"
      ],
      "metadata": {
        "id": "iCcnJGM2ce2n"
      },
      "execution_count": 62,
      "outputs": []
    },
    {
      "cell_type": "code",
      "source": [
        "for _ in range(20):\n",
        "  print(ber(120, 1/6),end='.')\n",
        "  print()"
      ],
      "metadata": {
        "id": "f-On4tDlcluO",
        "outputId": "8ccdd48c-167c-4282-a637-3e62d4b3c762",
        "colab": {
          "base_uri": "https://localhost:8080/"
        }
      },
      "execution_count": 69,
      "outputs": [
        {
          "output_type": "stream",
          "name": "stdout",
          "text": [
            "19.\n",
            "22.\n",
            "15.\n",
            "21.\n",
            "20.\n",
            "21.\n",
            "16.\n",
            "17.\n",
            "21.\n",
            "20.\n",
            "20.\n",
            "19.\n",
            "20.\n",
            "20.\n",
            "24.\n",
            "22.\n",
            "19.\n",
            "16.\n",
            "13.\n",
            "12.\n"
          ]
        }
      ]
    },
    {
      "cell_type": "code",
      "source": [
        "from collections import Counter\n",
        "def ber_hist(p,n,nps): #p확률의 사건을 n번 시행하는 실험을 nps번 수행해라\n",
        "  data=[ ber(n,p) for _ in range(nps) ]\n",
        "  hist = Counter(data)\n",
        "\n",
        "  mu = n*p #기대값\n",
        "  sigma = math.sqrt(n*p*(1-p)) #표준편차\n",
        "\n",
        "  xs = range(min(data),max(data),1)\n",
        "  ys = [normal_pdf(i,mu,sigma) for i in xs]\n",
        "  plt.bar(hist.keys(),[v/nps for v in hist.values()],color='r')\n",
        "  plt.plot(xs,ys)\n",
        "  plt.title(\"ber histogram\")\n",
        "  plt.show()\n",
        "  return data"
      ],
      "metadata": {
        "id": "6tv89TuVdECo"
      },
      "execution_count": 76,
      "outputs": []
    },
    {
      "cell_type": "code",
      "source": [
        "data = ber_hist(1/6, 1200, 12000)"
      ],
      "metadata": {
        "id": "Pyuek6azexeH",
        "outputId": "23cede6c-986a-4a41-99bb-dc41cee6a22f",
        "colab": {
          "base_uri": "https://localhost:8080/",
          "height": 281
        }
      },
      "execution_count": 77,
      "outputs": [
        {
          "output_type": "display_data",
          "data": {
            "text/plain": [
              "<Figure size 432x288 with 1 Axes>"
            ],
            "image/png": "[encoded data removed]"
          },
          "metadata": {
            "needs_background": "light"
          }
        }
      ]
    }
  ],
  "metadata": {
    "colab": {
      "collapsed_sections": [],
      "name": "Colaboratory에 오신 것을 환영합니다",
      "toc_visible": true,
      "provenance": [],
      "include_colab_link": true
    },
    "kernelspec": {
      "display_name": "Python 3",
      "name": "python3"
    }
  },
  "nbformat": 4,
  "nbformat_minor": 0
}